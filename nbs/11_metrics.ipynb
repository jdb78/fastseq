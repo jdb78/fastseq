{
 "cells": [
  {
   "cell_type": "code",
   "execution_count": 18,
   "metadata": {},
   "outputs": [],
   "source": [
    "# default_exp metrics"
   ]
  },
  {
   "cell_type": "code",
   "execution_count": 19,
   "metadata": {},
   "outputs": [],
   "source": [
    "# hide\n",
    "import sys\n",
    "\n",
    "sys.path.append(\"..\")\n",
    "import pandas as pd"
   ]
  },
  {
   "cell_type": "markdown",
   "metadata": {},
   "source": [
    "# Metrics\n",
    "\n",
    "> Metrics to evaluate time-series.\n",
    "\n",
    "Mostly copied from <https://github.com/MSRDL/Deep4Cast>"
   ]
  },
  {
   "cell_type": "code",
   "execution_count": 20,
   "metadata": {},
   "outputs": [],
   "source": [
    "# hide\n",
    "from nbdev.showdoc import *\n",
    "from fastcore.test import *"
   ]
  },
  {
   "cell_type": "code",
   "execution_count": 21,
   "metadata": {},
   "outputs": [],
   "source": [
    "#export\n",
    "from fastcore.utils import *\n",
    "from fastcore.imports import *\n",
    "from fastai2.basics import *\n",
    "from fastseq.data.external import *\n",
    "from fastseq.data.load import *\n",
    "from fastseq.data.core import *\n",
    "from fastseq.core import *"
   ]
  },
  {
   "cell_type": "code",
   "execution_count": 22,
   "metadata": {},
   "outputs": [],
   "source": [
    "# export\n",
    "\n",
    "def mape(truth, pred, reduction='mean') -> tensor:\n",
    "    \"\"\"Computes mean absolute percentage error (MAPE)\n",
    "    \"\"\"\n",
    "    norm = torch.abs(truth)\n",
    "    ret= torch.div(torch.abs(pred - truth), norm)\n",
    "\n",
    "    if reduction != 'none':\n",
    "        ret = torch.mean(ret) if reduction == 'mean' else torch.sum(ret)\n",
    "    return ret"
   ]
  },
  {
   "cell_type": "code",
   "execution_count": 23,
   "metadata": {},
   "outputs": [],
   "source": [
    "# hide\n",
    "output = torch.sigmoid(torch.randn(32, 100,requires_grad=True))\n",
    "target = torch.randint(0,2,(32, 100)).float()\n",
    "test_eq(mape(output,target).shape,[])\n",
    "test_eq(mape(output,target,reduction='mean').shape,[])\n",
    "test_eq(mape(output,target,reduction='sum').shape,[])\n",
    "test_eq(mape(output,target,reduction='none').shape,[32,100])"
   ]
  },
  {
   "cell_type": "code",
   "execution_count": 24,
   "metadata": {},
   "outputs": [],
   "source": [
    "def np_smape(a, b):\n",
    "    \"\"\"\n",
    "    Calculates sMAPE\n",
    "    :param a: actual values\n",
    "    :param b: predicted values\n",
    "    :return: sMAPE\n",
    "    \"\"\"\n",
    "    a = np.reshape(a, (-1,))\n",
    "    b = np.reshape(b, (-1,))\n",
    "    return np.mean(2.0 * np.abs(a - b) / (np.abs(a) + np.abs(b) + 1e-16))   # BT changed 2 to 200"
   ]
  },
  {
   "cell_type": "code",
   "execution_count": 25,
   "metadata": {},
   "outputs": [],
   "source": [
    "def torch_smape(model_outputs,target_outputs):\n",
    "    numerator = torch.abs(model_outputs - target_outputs)\n",
    "    denominator = torch.abs(model_outputs) + torch.abs(target_outputs)\n",
    "    elementwise_smape = 2*torch.div(numerator, denominator)\n",
    "    nan_mask = torch.isnan(elementwise_smape)\n",
    "    loss = elementwise_smape[~nan_mask].mean()    \n",
    "    assert ~torch.isnan(loss)\n",
    "    return loss"
   ]
  },
  {
   "cell_type": "code",
   "execution_count": 26,
   "metadata": {},
   "outputs": [],
   "source": [
    "# export\n",
    "def smape(truth, pred, agg=None, reduction='mean') -> tensor:\n",
    "    \"\"\"Computes symmetric mean absolute percentage error (SMAPE) on the mean\n",
    "\n",
    "    Arguments:\n",
    "        * data_samples (``np.array``): Sampled predictions (n_timeseries, n_variables, n_timesteps).\n",
    "        * data_truth (``np.array``): Ground truth time series values (n_timeseries, n_variables, n_timesteps).\n",
    "        * agg: Aggregation function applied to sampled predictions (defaults to ``np.median``).\n",
    "    \"\"\"\n",
    "    if pred.shape != truth.shape:\n",
    "        raise ValueError('Last three dimensions of data_samples and data_truth need to be compatible')\n",
    "\n",
    "    eps = 1e-16  # Need to make sure that denominator is not zero\n",
    "    norm = (torch.abs(pred) + torch.abs(truth)) + eps\n",
    "    ret = (2.0 * torch.abs(pred - truth) / norm)\n",
    "\n",
    "    if reduction != 'none':\n",
    "        ret = torch.mean(ret) if reduction == 'mean' else torch.sum(ret)\n",
    "    return ret\n",
    "\n",
    "def SMAPELossFlat(*args, axis=-1, floatify=True, **kwargs):\n",
    "    \"\"\"Same as `smape`, but flattens input and target.\n",
    "    DOES not work yet\n",
    "    \"\"\"\n",
    "    return BaseLoss(smape, *args, axis=axis, floatify=floatify, is_2d=False, **kwargs)"
   ]
  },
  {
   "cell_type": "code",
   "execution_count": 27,
   "metadata": {},
   "outputs": [],
   "source": [
    "# hide\n",
    "output = torch.sigmoid(torch.randn(32, 100,requires_grad=True))\n",
    "target = torch.randint(0,2,(32, 100)).float()\n",
    "test_eq(smape(output,target).shape,[])\n",
    "test_eq(smape(output,target,reduction='mean').shape,[])\n",
    "test_eq(smape(output,target,reduction='sum').shape,[])\n",
    "test_eq(smape(output,target,reduction='none').shape,[32,100])"
   ]
  },
  {
   "cell_type": "code",
   "execution_count": 28,
   "metadata": {},
   "outputs": [],
   "source": [
    "# hide\n",
    "test_eq(F.mse_loss(output,target).shape,[])\n",
    "test_eq(F.mse_loss(output,target,reduction='mean').shape,[])\n",
    "test_eq(F.mse_loss(output,target,reduction='sum').shape,[])\n",
    "test_eq(F.mse_loss(output,target,reduction='none').shape,[32,100])"
   ]
  },
  {
   "cell_type": "code",
   "execution_count": 29,
   "metadata": {},
   "outputs": [],
   "source": [
    "# hide\n",
    "for l in [100,10]:\n",
    "    res={}\n",
    "    for er in np.arange(.5,1.5,.05):\n",
    "        res[er] = {}\n",
    "        noise,y = torch.randn(64,1,l) * er, torch.cat([torch.arange(-(l/2),(l/2))[None,None,:]]*64,0)\n",
    "        y_hat = y + noise\n",
    "        smp = 0\n",
    "        for i in range(64):\n",
    "             smp += np_smape(y[i,:].numpy(),y_hat[i,:].numpy()) \n",
    "                \n",
    "        test_close(smape(y,y_hat, reduction='sum').numpy(), l*smp,.02)\n",
    "        test_close(smape(y,y_hat, reduction='mean'), torch_smape(y,y_hat))\n",
    "        test_eq(smape(y,y_hat, reduction='mean').shape,())"
   ]
  },
  {
   "cell_type": "code",
   "execution_count": 30,
   "metadata": {},
   "outputs": [
    {
     "name": "stdout",
     "output_type": "stream",
     "text": [
      "y_hat: 0.7253458499908447\n",
      "y_hat2:1.0276468992233276\n"
     ]
    },
    {
     "data": {
      "image/png": "[encoded data removed]",
      "text/plain": [
       "<Figure size 432x288 with 1 Axes>"
      ]
     },
     "metadata": {
      "needs_background": "light"
     },
     "output_type": "display_data"
    }
   ],
   "source": [
    "y_hat2 = noise + y_hat\n",
    "plt.plot(np.arange(10),y[0,0])\n",
    "plt.plot(np.arange(10),y_hat[0,0])\n",
    "plt.plot(np.arange(10),y_hat2[0,0])\n",
    "print(f\"y_hat: {smape(y,y_hat,reduction='mean')}\")\n",
    "print(f\"y_hat2:{smape(y,y_hat2,reduction='mean')}\")"
   ]
  },
  {
   "cell_type": "code",
   "execution_count": 31,
   "metadata": {},
   "outputs": [],
   "source": [
    "# hide\n",
    "test_eq(smape(y,y_hat,reduction='mean')<smape(y,y_hat2,reduction='mean'),True)"
   ]
  },
  {
   "cell_type": "code",
   "execution_count": 32,
   "metadata": {},
   "outputs": [],
   "source": [
    "def np_mase(y_test, y_hat_test,insample, freq):\n",
    "    \"\"\"\n",
    "    Calculates MAsE\n",
    "    :param insample: insample data\n",
    "    :param y_test: out of sample target values\n",
    "    :param y_hat_test: predicted values\n",
    "    :param freq: data frequency\n",
    "    :return:\n",
    "    \"\"\"\n",
    "    y_hat_naive = []\n",
    "    for i in range(freq, len(insample)):\n",
    "        y_hat_naive.append(insample[(i - freq)])\n",
    "    \n",
    "    masep = np.mean(abs(insample[freq:] - y_hat_naive))\n",
    "    return np.mean(abs(y_test - y_hat_test)) / masep\n"
   ]
  },
  {
   "cell_type": "code",
   "execution_count": 33,
   "metadata": {},
   "outputs": [],
   "source": [
    "# export\n",
    "\n",
    "def mase(y_test, y_hat_test, insample, freq, reduction=None):\n",
    "    \"\"\"Computes mean absolute scaled error (MASE) as in the `M4 competition\n",
    "    <https://www.m4.unic.ac.cy/wp-content/uploads/2018/03/M4-Competitors-Guide.pdf>`_.\n",
    "    Arguments:\n",
    "        *\n",
    "\n",
    "    \"\"\"\n",
    "    eps = 1e-16  # Need to make sure that denominator is not zero\n",
    "    # Calculate mean absolute for forecast and naive forecast per time series\n",
    "    err = torch.abs(y_test - y_hat_test)\n",
    "\n",
    "    naive_forecast = insample[:, :-freq]\n",
    "    naive_target = insample[:, freq:]\n",
    "    naive_err = torch.abs(naive_target - naive_forecast).mean(-1)[:,None]\n",
    "    ret = torch.div(err, naive_err+eps).mean(-1)\n",
    "    if reduction is not None:\n",
    "        ret = torch.mean(ret,-1) if reduction == 'mean' else torch.sum(ret,-1)\n",
    "    return ret"
   ]
  },
  {
   "cell_type": "code",
   "execution_count": 34,
   "metadata": {},
   "outputs": [],
   "source": [
    "# hide\n",
    "for l in [114, 1014]:\n",
    "    res={}\n",
    "    horizon = 14\n",
    "    for er in np.arange(.5,1.5,.05):\n",
    "        res[er] = {}\n",
    "        noise,x = torch.randn(64, 1, l) * er, torch.cat([torch.arange(-(l/2),(l/2))[None,None,:]] * 64,0)\n",
    "        y_hat = x + noise      \n",
    "        y = x\n",
    "        smp = 0\n",
    "        for i in range(64):\n",
    "            smp += np_mase(x[i, 0, -horizon:].numpy(), y_hat[i, 0, -horizon:].numpy(), x[i, 0, :-horizon].numpy(), 7)\n",
    "        \n",
    "        my = mase( x[:, 0, -horizon:], y_hat[:, 0, -horizon:],x[:, 0, :-horizon], 7, reduction = 'sum')\n",
    "        test_close(my, smp)\n",
    "        test_eq(mase(x[:, 0, -horizon:], y_hat[:, 0, -horizon:],x[:, 0, :-horizon], 7, reduction = 'mean').shape,())\n"
   ]
  },
  {
   "cell_type": "code",
   "execution_count": 35,
   "metadata": {},
   "outputs": [
    {
     "name": "stdout",
     "output_type": "stream",
     "text": [
      "y_hat: 0.20445282757282257\n",
      "y_hat2:0.40890565514564514\n"
     ]
    },
    {
     "data": {
      "image/png": "[encoded data removed]",
      "text/plain": [
       "<Figure size 432x288 with 1 Axes>"
      ]
     },
     "metadata": {
      "needs_background": "light"
     },
     "output_type": "display_data"
    }
   ],
   "source": [
    "y_hat2=noise + y_hat\n",
    "plt.plot(np.arange(21),y_hat[0,0,-21:])\n",
    "plt.plot(np.arange(21),y_hat2[0,0,-21:])\n",
    "plt.plot(np.arange(21),y[0,0,-21:])\n",
    "err_y_hat =  mase(x[0, 0, -horizon:][None,:], y_hat [0, 0, -horizon:][None,:], x[0, 0, :-horizon][None,:], 7, reduction = 'mean')\n",
    "err_y_hat2 = mase(x[0, 0, -horizon:][None,:], y_hat2[0, 0, -horizon:][None,:],x[0, 0, :-horizon][None,:], 7, reduction = 'mean')\n",
    "print(f\"y_hat: {err_y_hat}\")\n",
    "print(f\"y_hat2:{err_y_hat2}\")"
   ]
  },
  {
   "cell_type": "code",
   "execution_count": 36,
   "metadata": {},
   "outputs": [],
   "source": [
    "# hide\n",
    "test_eq(err_y_hat<err_y_hat2, True)"
   ]
  },
  {
   "cell_type": "code",
   "execution_count": 37,
   "metadata": {},
   "outputs": [],
   "source": [
    "# hide\n",
    "class MASE(Module):\n",
    "    def __init__(self, freq, *args, **kwargs):\n",
    "        self.freq = freq \n",
    "        self.x_sample = None\n",
    "        \n",
    "    def forward(self, inp, targ, **kwargs):\n",
    "        assert self.x_sample is not None, f\"Please use also use the `MASECallback` callback.\"\n",
    "        return mase(inp, targ, self.x_sample, freq)\n",
    "    \n",
    "class MASECallback(Callback):\n",
    "    def after_pred(self):\n",
    "        if isinstance(self.learn.loss_func,MASE):\n",
    "            self.learn.loss_func.x_sample = self.xb\n",
    "        "
   ]
  },
  {
   "cell_type": "code",
   "execution_count": 38,
   "metadata": {},
   "outputs": [],
   "source": [
    "# hide\n",
    "from fastai2.test_utils import *\n",
    "\n",
    "def synth_learner(n_train=10, n_valid=2, cuda=False, lr=.01, **kwargs):\n",
    "    data = synth_dbunch(n_train=n_train,n_valid=n_valid, cuda=cuda)\n",
    "    return Learner(data, RegModel(), loss_func=MASE(), lr=lr, cbs=MASECallback())\n",
    "\n",
    "# tst_learn = synth_learner()\n",
    "# tst_learn.fit(1,0.01)\n"
   ]
  },
  {
   "cell_type": "code",
   "execution_count": 39,
   "metadata": {},
   "outputs": [],
   "source": [
    "#hide\n",
    "#cuda\n",
    "#Test losses work in half precision\n",
    "# output = torch.sigmoid(torch.randn(32, 5, 10)).half().cuda()\n",
    "# target = torch.randint(0,2,(32, 5, 10)).half().cuda()\n",
    "# for tst in [SMAPELossFlat(), MSELossFlat()]: \n",
    "#     _ = tst(output, target)"
   ]
  },
  {
   "cell_type": "markdown",
   "metadata": {},
   "source": [
    "## Metrics Parts"
   ]
  },
  {
   "cell_type": "code",
   "execution_count": null,
   "metadata": {},
   "outputs": [],
   "source": []
  },
  {
   "cell_type": "code",
   "execution_count": 40,
   "metadata": {},
   "outputs": [],
   "source": [
    "#export\n",
    "from fastai2.basics import *\n",
    "class NBeatsLossPart(Metric):\n",
    "    \"The loss according to the `loss_func` on a particular part of the time-serie.\"\n",
    "    def __init__(self, start, end, name, *args, loss_func=None, **kwargs):\n",
    "        store_attr(self,\"start,end,loss_func\")\n",
    "        self._name = name\n",
    "\n",
    "    def reset(self):           self.total,self.count = 0.,0\n",
    "    def accumulate(self, learn):\n",
    "        bs = find_bs(learn.yb)\n",
    "        if self.loss_func is None:\n",
    "            self.loss_func = learn.loss_func\n",
    "        pred, truth = learn.pred, learn.yb[0]\n",
    "        if len(pred.shape) == 2:\n",
    "            pred = pred[:,None,:]\n",
    "            truth = truth[:,None,:]\n",
    "        assert pred[:,0,self.start:self.end].shape == truth[:,0,self.start:self.end].shape\n",
    "        loss = to_detach(self.loss_func(pred[:,0,self.start:self.end], truth[:,0,self.start:self.end])) / truth[:,0,self.start:self.end].shape[-1]\n",
    "        self.total += loss.mean()*bs\n",
    "        self.count += bs\n",
    "    @property\n",
    "    def value(self): return self.total/self.count if self.count != 0 else None\n",
    "    @property\n",
    "    def name(self):  return self._name"
   ]
  },
  {
   "cell_type": "code",
   "execution_count": 41,
   "metadata": {},
   "outputs": [],
   "source": [
    "#export\n",
    "class NBeatsBackward(NBeatsLossPart):\n",
    "    \"The loss according to the `loss_func` on the backwards part of the time-serie.\"\n",
    "    def __init__(self, lookback, *args, **kwargs):\n",
    "        super().__init__(0, lookback, 'b_loss', *args, **kwargs)"
   ]
  },
  {
   "cell_type": "code",
   "execution_count": 42,
   "metadata": {},
   "outputs": [
    {
     "ename": "NameError",
     "evalue": "name 'TSDataLoaders' is not defined",
     "output_type": "error",
     "traceback": [
      "\u001b[0;31m---------------------------------------------------------------------------\u001b[0m",
      "\u001b[0;31mNameError\u001b[0m                                 Traceback (most recent call last)",
      "\u001b[0;32m<ipython-input-42-0bef6982c91d>\u001b[0m in \u001b[0;36m<module>\u001b[0;34m\u001b[0m\n\u001b[1;32m      2\u001b[0m \u001b[0mhorizon\u001b[0m\u001b[0;34m,\u001b[0m \u001b[0mlookback\u001b[0m \u001b[0;34m=\u001b[0m \u001b[0;36m5\u001b[0m\u001b[0;34m,\u001b[0m\u001b[0;36m20\u001b[0m\u001b[0;34m\u001b[0m\u001b[0;34m\u001b[0m\u001b[0m\n\u001b[1;32m      3\u001b[0m \u001b[0mitems\u001b[0m \u001b[0;34m=\u001b[0m \u001b[0mdummy_data_generator\u001b[0m\u001b[0;34m(\u001b[0m\u001b[0;36m50\u001b[0m\u001b[0;34m,\u001b[0m \u001b[0;36m10\u001b[0m\u001b[0;34m,\u001b[0m \u001b[0mnrows\u001b[0m\u001b[0;34m=\u001b[0m\u001b[0;36m10\u001b[0m\u001b[0;34m)\u001b[0m\u001b[0;34m\u001b[0m\u001b[0;34m\u001b[0m\u001b[0m\n\u001b[0;32m----> 4\u001b[0;31m \u001b[0mdata\u001b[0m \u001b[0;34m=\u001b[0m \u001b[0mTSDataLoaders\u001b[0m\u001b[0;34m.\u001b[0m\u001b[0mfrom_items\u001b[0m\u001b[0;34m(\u001b[0m\u001b[0mitems\u001b[0m\u001b[0;34m,\u001b[0m \u001b[0mhorizon\u001b[0m \u001b[0;34m=\u001b[0m \u001b[0mhorizon\u001b[0m\u001b[0;34m,\u001b[0m\u001b[0mlookback\u001b[0m \u001b[0;34m=\u001b[0m \u001b[0mlookback\u001b[0m\u001b[0;34m,\u001b[0m \u001b[0mbs\u001b[0m\u001b[0;34m=\u001b[0m\u001b[0;36m32\u001b[0m\u001b[0;34m)\u001b[0m\u001b[0;34m\u001b[0m\u001b[0;34m\u001b[0m\u001b[0m\n\u001b[0m\u001b[1;32m      5\u001b[0m \u001b[0mmdl\u001b[0m \u001b[0;34m=\u001b[0m \u001b[0mNBeatsNet\u001b[0m\u001b[0;34m(\u001b[0m\u001b[0mdevice\u001b[0m \u001b[0;34m=\u001b[0m \u001b[0mdata\u001b[0m\u001b[0;34m.\u001b[0m\u001b[0mtrain\u001b[0m\u001b[0;34m.\u001b[0m\u001b[0mdevice\u001b[0m\u001b[0;34m,\u001b[0m \u001b[0mhorizon\u001b[0m\u001b[0;34m=\u001b[0m\u001b[0mhorizon\u001b[0m\u001b[0;34m,\u001b[0m \u001b[0mlookback\u001b[0m\u001b[0;34m=\u001b[0m\u001b[0mlookback\u001b[0m\u001b[0;34m,\u001b[0m \u001b[0mlayers\u001b[0m \u001b[0;34m=\u001b[0m \u001b[0;34m[\u001b[0m\u001b[0;36m100\u001b[0m\u001b[0;34m]\u001b[0m\u001b[0;34m)\u001b[0m\u001b[0;34m\u001b[0m\u001b[0;34m\u001b[0m\u001b[0m\n\u001b[1;32m      6\u001b[0m \u001b[0mloss_func\u001b[0m \u001b[0;34m=\u001b[0m \u001b[0mF\u001b[0m\u001b[0;34m.\u001b[0m\u001b[0mmse_loss\u001b[0m\u001b[0;34m\u001b[0m\u001b[0;34m\u001b[0m\u001b[0m\n",
      "\u001b[0;31mNameError\u001b[0m: name 'TSDataLoaders' is not defined"
     ]
    }
   ],
   "source": [
    "# hide\n",
    "horizon, lookback = 5,20\n",
    "items = dummy_data_generator(50, 10, nrows=10)\n",
    "data = TSDataLoaders.from_items(items, horizon = horizon,lookback = lookback, bs=32)\n",
    "mdl = NBeatsNet(device = data.train.device, horizon=horizon, lookback=lookback, layers = [100])\n",
    "loss_func = F.mse_loss\n",
    "learn = Learner(data, mdl, loss_func=loss_func, opt_func= Adam, #metrics=[NBeatsBackward(lookback)],\n",
    "#                 cbs=L(NBeatsTrainer())\n",
    "               )\n",
    "learn.loss_func\n",
    "learn.fit(2,.1)"
   ]
  },
  {
   "cell_type": "code",
   "execution_count": null,
   "metadata": {},
   "outputs": [],
   "source": [
    "#export\n",
    "class NBeatsForward(NBeatsLossPart):\n",
    "    \"The loss according to the `loss_func` on the forward part of the time-serie.\"\n",
    "    def __init__(self, lookback, *args, **kwargs):\n",
    "        super().__init__(lookback, None, 'f_loss', *args, **kwargs)"
   ]
  },
  {
   "cell_type": "code",
   "execution_count": null,
   "metadata": {},
   "outputs": [],
   "source": [
    "# export\n",
    "from fastai2.basics import *\n",
    "class LossPart(Metric):\n",
    "    \"The loss according to the `loss_func` on a particular part of the time-serie.\"\n",
    "    def __init__(self, start, end, name, *args, loss_func=None, **kwargs):\n",
    "        store_attr(self,\"start,end,loss_func\")\n",
    "        self._name = name\n",
    "\n",
    "    def reset(self):           self.total,self.count = 0.,0\n",
    "    def accumulate(self, learn):\n",
    "        bs = find_bs(learn.yb)\n",
    "        if self.loss_func is None:\n",
    "            self.loss_func = learn.loss_func\n",
    "        pred, truth = learn.pred, learn.yb[0]\n",
    "        if len(pred.shape) == 2:\n",
    "            pred = pred[:,None,:]\n",
    "            truth = truth[:,None,:]\n",
    "        assert pred[:,0,self.start:self.end].shape == truth[:,0,self.start:self.end].shape\n",
    "        loss = to_detach(self.loss_func(pred[:,0,self.start:self.end],\n",
    "                                        truth[:,0,self.start:self.end])) / truth[:,0,self.start:self.end].shape[-1]\n",
    "        self.total += loss.mean()*bs\n",
    "        self.count += bs\n",
    "    @property\n",
    "    def value(self): return self.total/self.count if self.count != 0 else None\n",
    "    @property\n",
    "    def name(self):  return self._name\n"
   ]
  },
  {
   "cell_type": "code",
   "execution_count": null,
   "metadata": {},
   "outputs": [],
   "source": [
    "# export\n",
    "def ForcastLoss(loss_func, lookback, ratio = [1,1]):\n",
    "    def _inner(pred, truth, *args, **kwargs):\n",
    "        if len(pred.shape) == 2:\n",
    "            pred = pred[:,None,:]\n",
    "            truth = truth[:,None,:]\n",
    "        if kwargs.get('reduction', 'mean') == 'none':\n",
    "            loss = torch.zeros_like(pred)\n",
    "            loss[:,:,lookback:] += loss_func(pred[:,:,lookback:],truth[:,:,lookback:], *args, **kwargs) \n",
    "        else:\n",
    "            loss = loss_func(pred[:,:,lookback:],truth[:,:,lookback:], *args, **kwargs)\n",
    "        return loss\n",
    "\n",
    "    return _inner"
   ]
  },
  {
   "cell_type": "code",
   "execution_count": null,
   "metadata": {},
   "outputs": [],
   "source": [
    "# hide\n",
    "from nbdev.export import *\n",
    "\n",
    "notebook2script()"
   ]
  },
  {
   "cell_type": "code",
   "execution_count": null,
   "metadata": {},
   "outputs": [],
   "source": []
  },
  {
   "cell_type": "code",
   "execution_count": null,
   "metadata": {},
   "outputs": [],
   "source": []
  }
 ],
 "metadata": {
  "kernelspec": {
   "display_name": "env37",
   "language": "python",
   "name": "env37"
  },
  "language_info": {
   "codemirror_mode": {
    "name": "ipython",
    "version": 3
   },
   "file_extension": ".py",
   "mimetype": "text/x-python",
   "name": "python",
   "nbconvert_exporter": "python",
   "pygments_lexer": "ipython3",
   "version": "3.7.4"
  }
 },
 "nbformat": 4,
 "nbformat_minor": 4
}
