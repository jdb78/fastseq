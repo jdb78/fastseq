{
 "cells": [
  {
   "cell_type": "code",
   "execution_count": 2,
   "metadata": {},
   "outputs": [],
   "source": [
    "# default_exp data.external"
   ]
  },
  {
   "cell_type": "code",
   "execution_count": 3,
   "metadata": {},
   "outputs": [
    {
     "name": "stderr",
     "output_type": "stream",
     "text": [
      "/home/tako/dev/env37/lib/python3.7/site-packages/pandas/compat/__init__.py:117: UserWarning: Could not import the lzma module. Your installed Python is incomplete. Attempting to use lzma compression will result in a RuntimeError.\n",
      "  warnings.warn(msg)\n"
     ]
    }
   ],
   "source": [
    "# hide\n",
    "import sys\n",
    "\n",
    "sys.path.append(\"..\")\n",
    "import pandas as pd"
   ]
  },
  {
   "cell_type": "markdown",
   "metadata": {},
   "source": [
    "# Data Collection\n",
    "\n",
    "> Adding the M4 data to the fastai way of storing/downloading data."
   ]
  },
  {
   "cell_type": "markdown",
   "metadata": {},
   "source": [
    "Datasets to incl:\n",
    "\n",
    "- [x] m4 daily\n",
    "- [ ] gunpoint\n",
    "- [ ] Phoneme <http://www.timeseriesclassification.com/description.php?Dataset=Phoneme>\n",
    "- [ ] Worms <http://www.timeseriesclassification.com/description.php?Dataset=Worms>\n",
    "- [ ] BeetleFly <http://www.timeseriesclassification.com/description.php?Dataset=BeetleFly>\n",
    "- [ ] m4 hourly\n",
    "- [ ] M5 \n",
    "\n",
    "using zip files\n",
    "https://forums.fast.ai/t/generalizing-untar-data-to-also-work-with-zips/53741/14?u=takotab"
   ]
  },
  {
   "cell_type": "code",
   "execution_count": 4,
   "metadata": {},
   "outputs": [],
   "source": [
    "# export\n",
    "from fastseq.core import *\n",
    "from fastcore.utils import *\n",
    "from fastcore.imports import *\n",
    "from fastai2.basics import *\n",
    "import pandas as pd"
   ]
  },
  {
   "cell_type": "markdown",
   "metadata": {},
   "source": [
    "## LstnetDatasets"
   ]
  },
  {
   "cell_type": "code",
   "execution_count": 5,
   "metadata": {},
   "outputs": [],
   "source": [
    "base = \"https://raw.githubusercontent.com/laiguokun/multivariate-time-series-data/master/\"\n",
    "URLs.exchange_rate = f'{base}exchange_rate/exchange_rate.txt.gz'\n",
    "URLs.electricity = f\"{base}electricity/electricity.txt.gz\"\n",
    "URLs.traffic = f\"{base}traffic/traffic.txt.gz\""
   ]
  },
  {
   "cell_type": "code",
   "execution_count": 6,
   "metadata": {},
   "outputs": [
    {
     "data": {
      "text/html": [
       "<div>\n",
       "<style scoped>\n",
       "    .dataframe tbody tr th:only-of-type {\n",
       "        vertical-align: middle;\n",
       "    }\n",
       "\n",
       "    .dataframe tbody tr th {\n",
       "        vertical-align: top;\n",
       "    }\n",
       "\n",
       "    .dataframe thead th {\n",
       "        text-align: right;\n",
       "    }\n",
       "</style>\n",
       "<table border=\"1\" class=\"dataframe\">\n",
       "  <thead>\n",
       "    <tr style=\"text-align: right;\">\n",
       "      <th></th>\n",
       "      <th>0</th>\n",
       "      <th>1</th>\n",
       "      <th>2</th>\n",
       "      <th>3</th>\n",
       "      <th>4</th>\n",
       "      <th>5</th>\n",
       "      <th>6</th>\n",
       "      <th>7</th>\n",
       "      <th>8</th>\n",
       "      <th>9</th>\n",
       "      <th>...</th>\n",
       "      <th>852</th>\n",
       "      <th>853</th>\n",
       "      <th>854</th>\n",
       "      <th>855</th>\n",
       "      <th>856</th>\n",
       "      <th>857</th>\n",
       "      <th>858</th>\n",
       "      <th>859</th>\n",
       "      <th>860</th>\n",
       "      <th>861</th>\n",
       "    </tr>\n",
       "  </thead>\n",
       "  <tbody>\n",
       "    <tr>\n",
       "      <th>0</th>\n",
       "      <td>0.0048</td>\n",
       "      <td>0.0146</td>\n",
       "      <td>0.0289</td>\n",
       "      <td>0.0142</td>\n",
       "      <td>0.0064</td>\n",
       "      <td>0.0232</td>\n",
       "      <td>0.0162</td>\n",
       "      <td>0.0242</td>\n",
       "      <td>0.0341</td>\n",
       "      <td>0.0375</td>\n",
       "      <td>...</td>\n",
       "      <td>0.0051</td>\n",
       "      <td>0.0051</td>\n",
       "      <td>0.0074</td>\n",
       "      <td>0.0079</td>\n",
       "      <td>0.0051</td>\n",
       "      <td>0.0051</td>\n",
       "      <td>0.0339</td>\n",
       "      <td>0.0051</td>\n",
       "      <td>0.0100</td>\n",
       "      <td>0.0121</td>\n",
       "    </tr>\n",
       "    <tr>\n",
       "      <th>1</th>\n",
       "      <td>0.0072</td>\n",
       "      <td>0.0148</td>\n",
       "      <td>0.0350</td>\n",
       "      <td>0.0174</td>\n",
       "      <td>0.0084</td>\n",
       "      <td>0.0240</td>\n",
       "      <td>0.0201</td>\n",
       "      <td>0.0338</td>\n",
       "      <td>0.0434</td>\n",
       "      <td>0.0381</td>\n",
       "      <td>...</td>\n",
       "      <td>0.0036</td>\n",
       "      <td>0.0036</td>\n",
       "      <td>0.0107</td>\n",
       "      <td>0.0058</td>\n",
       "      <td>0.0036</td>\n",
       "      <td>0.0036</td>\n",
       "      <td>0.0348</td>\n",
       "      <td>0.0036</td>\n",
       "      <td>0.0087</td>\n",
       "      <td>0.0136</td>\n",
       "    </tr>\n",
       "    <tr>\n",
       "      <th>2</th>\n",
       "      <td>0.0040</td>\n",
       "      <td>0.0101</td>\n",
       "      <td>0.0267</td>\n",
       "      <td>0.0124</td>\n",
       "      <td>0.0049</td>\n",
       "      <td>0.0170</td>\n",
       "      <td>0.0127</td>\n",
       "      <td>0.0255</td>\n",
       "      <td>0.0332</td>\n",
       "      <td>0.0309</td>\n",
       "      <td>...</td>\n",
       "      <td>0.0030</td>\n",
       "      <td>0.0030</td>\n",
       "      <td>0.0043</td>\n",
       "      <td>0.0050</td>\n",
       "      <td>0.0030</td>\n",
       "      <td>0.0030</td>\n",
       "      <td>0.0327</td>\n",
       "      <td>0.0030</td>\n",
       "      <td>0.0061</td>\n",
       "      <td>0.0107</td>\n",
       "    </tr>\n",
       "    <tr>\n",
       "      <th>3</th>\n",
       "      <td>0.0039</td>\n",
       "      <td>0.0060</td>\n",
       "      <td>0.0218</td>\n",
       "      <td>0.0090</td>\n",
       "      <td>0.0029</td>\n",
       "      <td>0.0118</td>\n",
       "      <td>0.0088</td>\n",
       "      <td>0.0163</td>\n",
       "      <td>0.0211</td>\n",
       "      <td>0.0199</td>\n",
       "      <td>...</td>\n",
       "      <td>0.0033</td>\n",
       "      <td>0.0033</td>\n",
       "      <td>0.0019</td>\n",
       "      <td>0.0052</td>\n",
       "      <td>0.0033</td>\n",
       "      <td>0.0033</td>\n",
       "      <td>0.0292</td>\n",
       "      <td>0.0033</td>\n",
       "      <td>0.0040</td>\n",
       "      <td>0.0071</td>\n",
       "    </tr>\n",
       "    <tr>\n",
       "      <th>4</th>\n",
       "      <td>0.0042</td>\n",
       "      <td>0.0055</td>\n",
       "      <td>0.0191</td>\n",
       "      <td>0.0082</td>\n",
       "      <td>0.0024</td>\n",
       "      <td>0.0095</td>\n",
       "      <td>0.0064</td>\n",
       "      <td>0.0087</td>\n",
       "      <td>0.0144</td>\n",
       "      <td>0.0226</td>\n",
       "      <td>...</td>\n",
       "      <td>0.0049</td>\n",
       "      <td>0.0049</td>\n",
       "      <td>0.0011</td>\n",
       "      <td>0.0071</td>\n",
       "      <td>0.0049</td>\n",
       "      <td>0.0049</td>\n",
       "      <td>0.0264</td>\n",
       "      <td>0.0049</td>\n",
       "      <td>0.0040</td>\n",
       "      <td>0.0039</td>\n",
       "    </tr>\n",
       "    <tr>\n",
       "      <th>...</th>\n",
       "      <td>...</td>\n",
       "      <td>...</td>\n",
       "      <td>...</td>\n",
       "      <td>...</td>\n",
       "      <td>...</td>\n",
       "      <td>...</td>\n",
       "      <td>...</td>\n",
       "      <td>...</td>\n",
       "      <td>...</td>\n",
       "      <td>...</td>\n",
       "      <td>...</td>\n",
       "      <td>...</td>\n",
       "      <td>...</td>\n",
       "      <td>...</td>\n",
       "      <td>...</td>\n",
       "      <td>...</td>\n",
       "      <td>...</td>\n",
       "      <td>...</td>\n",
       "      <td>...</td>\n",
       "      <td>...</td>\n",
       "      <td>...</td>\n",
       "    </tr>\n",
       "    <tr>\n",
       "      <th>17539</th>\n",
       "      <td>0.0342</td>\n",
       "      <td>0.0332</td>\n",
       "      <td>0.1378</td>\n",
       "      <td>0.0559</td>\n",
       "      <td>0.0165</td>\n",
       "      <td>0.0386</td>\n",
       "      <td>0.0457</td>\n",
       "      <td>0.0687</td>\n",
       "      <td>0.0716</td>\n",
       "      <td>0.0518</td>\n",
       "      <td>...</td>\n",
       "      <td>0.0139</td>\n",
       "      <td>0.0179</td>\n",
       "      <td>0.0278</td>\n",
       "      <td>0.0280</td>\n",
       "      <td>0.0227</td>\n",
       "      <td>0.0375</td>\n",
       "      <td>0.0142</td>\n",
       "      <td>0.0201</td>\n",
       "      <td>0.0341</td>\n",
       "      <td>0.0429</td>\n",
       "    </tr>\n",
       "    <tr>\n",
       "      <th>17540</th>\n",
       "      <td>0.0285</td>\n",
       "      <td>0.0253</td>\n",
       "      <td>0.0542</td>\n",
       "      <td>0.0485</td>\n",
       "      <td>0.0131</td>\n",
       "      <td>0.0331</td>\n",
       "      <td>0.0372</td>\n",
       "      <td>0.0569</td>\n",
       "      <td>0.0669</td>\n",
       "      <td>0.0409</td>\n",
       "      <td>...</td>\n",
       "      <td>0.0116</td>\n",
       "      <td>0.0155</td>\n",
       "      <td>0.0201</td>\n",
       "      <td>0.0267</td>\n",
       "      <td>0.0207</td>\n",
       "      <td>0.0320</td>\n",
       "      <td>0.0122</td>\n",
       "      <td>0.0163</td>\n",
       "      <td>0.0306</td>\n",
       "      <td>0.0363</td>\n",
       "    </tr>\n",
       "    <tr>\n",
       "      <th>17541</th>\n",
       "      <td>0.0276</td>\n",
       "      <td>0.0257</td>\n",
       "      <td>0.0551</td>\n",
       "      <td>0.0474</td>\n",
       "      <td>0.0121</td>\n",
       "      <td>0.0326</td>\n",
       "      <td>0.0381</td>\n",
       "      <td>0.0566</td>\n",
       "      <td>0.0675</td>\n",
       "      <td>0.0386</td>\n",
       "      <td>...</td>\n",
       "      <td>0.0109</td>\n",
       "      <td>0.0142</td>\n",
       "      <td>0.0208</td>\n",
       "      <td>0.0252</td>\n",
       "      <td>0.0189</td>\n",
       "      <td>0.0287</td>\n",
       "      <td>0.0123</td>\n",
       "      <td>0.0152</td>\n",
       "      <td>0.0292</td>\n",
       "      <td>0.0325</td>\n",
       "    </tr>\n",
       "    <tr>\n",
       "      <th>17542</th>\n",
       "      <td>0.0232</td>\n",
       "      <td>0.0229</td>\n",
       "      <td>0.0496</td>\n",
       "      <td>0.0435</td>\n",
       "      <td>0.0119</td>\n",
       "      <td>0.0297</td>\n",
       "      <td>0.0361</td>\n",
       "      <td>0.0517</td>\n",
       "      <td>0.0598</td>\n",
       "      <td>0.0360</td>\n",
       "      <td>...</td>\n",
       "      <td>0.0092</td>\n",
       "      <td>0.0124</td>\n",
       "      <td>0.0219</td>\n",
       "      <td>0.0215</td>\n",
       "      <td>0.0169</td>\n",
       "      <td>0.0258</td>\n",
       "      <td>0.0096</td>\n",
       "      <td>0.0130</td>\n",
       "      <td>0.0252</td>\n",
       "      <td>0.0279</td>\n",
       "    </tr>\n",
       "    <tr>\n",
       "      <th>17543</th>\n",
       "      <td>0.0090</td>\n",
       "      <td>0.0168</td>\n",
       "      <td>0.0365</td>\n",
       "      <td>0.0328</td>\n",
       "      <td>0.0084</td>\n",
       "      <td>0.0213</td>\n",
       "      <td>0.0257</td>\n",
       "      <td>0.0475</td>\n",
       "      <td>0.0540</td>\n",
       "      <td>0.0258</td>\n",
       "      <td>...</td>\n",
       "      <td>0.0067</td>\n",
       "      <td>0.0085</td>\n",
       "      <td>0.0143</td>\n",
       "      <td>0.0151</td>\n",
       "      <td>0.0123</td>\n",
       "      <td>0.0193</td>\n",
       "      <td>0.0061</td>\n",
       "      <td>0.0098</td>\n",
       "      <td>0.0170</td>\n",
       "      <td>0.0208</td>\n",
       "    </tr>\n",
       "  </tbody>\n",
       "</table>\n",
       "<p>17544 rows × 862 columns</p>\n",
       "</div>"
      ],
      "text/plain": [
       "          0       1       2       3       4       5       6       7       8    \\\n",
       "0      0.0048  0.0146  0.0289  0.0142  0.0064  0.0232  0.0162  0.0242  0.0341   \n",
       "1      0.0072  0.0148  0.0350  0.0174  0.0084  0.0240  0.0201  0.0338  0.0434   \n",
       "2      0.0040  0.0101  0.0267  0.0124  0.0049  0.0170  0.0127  0.0255  0.0332   \n",
       "3      0.0039  0.0060  0.0218  0.0090  0.0029  0.0118  0.0088  0.0163  0.0211   \n",
       "4      0.0042  0.0055  0.0191  0.0082  0.0024  0.0095  0.0064  0.0087  0.0144   \n",
       "...       ...     ...     ...     ...     ...     ...     ...     ...     ...   \n",
       "17539  0.0342  0.0332  0.1378  0.0559  0.0165  0.0386  0.0457  0.0687  0.0716   \n",
       "17540  0.0285  0.0253  0.0542  0.0485  0.0131  0.0331  0.0372  0.0569  0.0669   \n",
       "17541  0.0276  0.0257  0.0551  0.0474  0.0121  0.0326  0.0381  0.0566  0.0675   \n",
       "17542  0.0232  0.0229  0.0496  0.0435  0.0119  0.0297  0.0361  0.0517  0.0598   \n",
       "17543  0.0090  0.0168  0.0365  0.0328  0.0084  0.0213  0.0257  0.0475  0.0540   \n",
       "\n",
       "          9    ...     852     853     854     855     856     857     858  \\\n",
       "0      0.0375  ...  0.0051  0.0051  0.0074  0.0079  0.0051  0.0051  0.0339   \n",
       "1      0.0381  ...  0.0036  0.0036  0.0107  0.0058  0.0036  0.0036  0.0348   \n",
       "2      0.0309  ...  0.0030  0.0030  0.0043  0.0050  0.0030  0.0030  0.0327   \n",
       "3      0.0199  ...  0.0033  0.0033  0.0019  0.0052  0.0033  0.0033  0.0292   \n",
       "4      0.0226  ...  0.0049  0.0049  0.0011  0.0071  0.0049  0.0049  0.0264   \n",
       "...       ...  ...     ...     ...     ...     ...     ...     ...     ...   \n",
       "17539  0.0518  ...  0.0139  0.0179  0.0278  0.0280  0.0227  0.0375  0.0142   \n",
       "17540  0.0409  ...  0.0116  0.0155  0.0201  0.0267  0.0207  0.0320  0.0122   \n",
       "17541  0.0386  ...  0.0109  0.0142  0.0208  0.0252  0.0189  0.0287  0.0123   \n",
       "17542  0.0360  ...  0.0092  0.0124  0.0219  0.0215  0.0169  0.0258  0.0096   \n",
       "17543  0.0258  ...  0.0067  0.0085  0.0143  0.0151  0.0123  0.0193  0.0061   \n",
       "\n",
       "          859     860     861  \n",
       "0      0.0051  0.0100  0.0121  \n",
       "1      0.0036  0.0087  0.0136  \n",
       "2      0.0030  0.0061  0.0107  \n",
       "3      0.0033  0.0040  0.0071  \n",
       "4      0.0049  0.0040  0.0039  \n",
       "...       ...     ...     ...  \n",
       "17539  0.0201  0.0341  0.0429  \n",
       "17540  0.0163  0.0306  0.0363  \n",
       "17541  0.0152  0.0292  0.0325  \n",
       "17542  0.0130  0.0252  0.0279  \n",
       "17543  0.0098  0.0170  0.0208  \n",
       "\n",
       "[17544 rows x 862 columns]"
      ]
     },
     "execution_count": 6,
     "metadata": {},
     "output_type": "execute_result"
    }
   ],
   "source": [
    "df = pd.read_csv(URLs.traffic, header=None)\n",
    "df"
   ]
  },
  {
   "cell_type": "code",
   "execution_count": 7,
   "metadata": {},
   "outputs": [],
   "source": [
    "from typing import List, NamedTuple, Optional\n",
    "\n",
    "def load_from_pandas(\n",
    "    df: pd.DataFrame,\n",
    "    time_index: pd.DatetimeIndex,\n",
    "    agg_freq: Optional[str] = None,\n",
    ") -> List[pd.Series]:\n",
    "    df = df.set_index(time_index)\n",
    "\n",
    "    pivot_df = df.transpose()\n",
    "    pivot_df.head()\n",
    "\n",
    "    timeseries = []\n",
    "    for row in pivot_df.iterrows():\n",
    "        ts = pd.Series(row[1].values, index=time_index)\n",
    "        if agg_freq is not None:\n",
    "            ts = ts.resample(agg_freq).sum()\n",
    "        first_valid = ts[ts.notnull()].index[0]\n",
    "        last_valid = ts[ts.notnull()].index[-1]\n",
    "        ts = ts[first_valid:last_valid]\n",
    "\n",
    "        timeseries.append(ts)\n",
    "\n",
    "    return timeseries"
   ]
  },
  {
   "cell_type": "code",
   "execution_count": 8,
   "metadata": {},
   "outputs": [
    {
     "ename": "NameError",
     "evalue": "name 'time_index' is not defined",
     "output_type": "error",
     "traceback": [
      "\u001b[0;31m---------------------------------------------------------------------------\u001b[0m",
      "\u001b[0;31mNameError\u001b[0m                                 Traceback (most recent call last)",
      "\u001b[0;32m<ipython-input-8-13ff5c08db40>\u001b[0m in \u001b[0;36m<module>\u001b[0;34m\u001b[0m\n\u001b[1;32m      1\u001b[0m timeseries = load_from_pandas(\n\u001b[0;32m----> 2\u001b[0;31m     \u001b[0mdf\u001b[0m\u001b[0;34m=\u001b[0m\u001b[0mdf\u001b[0m\u001b[0;34m,\u001b[0m \u001b[0mtime_index\u001b[0m\u001b[0;34m=\u001b[0m\u001b[0mtime_index\u001b[0m\u001b[0;34m,\u001b[0m \u001b[0magg_freq\u001b[0m\u001b[0;34m=\u001b[0m\u001b[0mds_info\u001b[0m\u001b[0;34m.\u001b[0m\u001b[0magg_freq\u001b[0m\u001b[0;34m\u001b[0m\u001b[0;34m\u001b[0m\u001b[0m\n\u001b[0m\u001b[1;32m      3\u001b[0m )\n",
      "\u001b[0;31mNameError\u001b[0m: name 'time_index' is not defined"
     ]
    }
   ],
   "source": [
    "timeseries = load_from_pandas(\n",
    "    df=df, time_index=time_index, agg_freq=ds_info.agg_freq\n",
    ")"
   ]
  },
  {
   "cell_type": "code",
   "execution_count": 9,
   "metadata": {},
   "outputs": [
    {
     "ename": "SyntaxError",
     "evalue": "invalid syntax (<ipython-input-9-3dda0cab2c99>, line 9)",
     "output_type": "error",
     "traceback": [
      "\u001b[0;36m  File \u001b[0;32m\"<ipython-input-9-3dda0cab2c99>\"\u001b[0;36m, line \u001b[0;32m9\u001b[0m\n\u001b[0;31m    path = untar_data(URLs.traffic, extract_func=)\u001b[0m\n\u001b[0m                                                 ^\u001b[0m\n\u001b[0;31mSyntaxError\u001b[0m\u001b[0;31m:\u001b[0m invalid syntax\n"
     ]
    }
   ],
   "source": [
    "from zipfile import ZipFile\n",
    "\n",
    "url = \"https://github.com/karoldvl/ESC-50/archive/master.zip\"\n",
    "\n",
    "def zip_extract(fname, dest):\n",
    "    zipfile.ZipFile(fname, mode='r').extractall(dest)\n",
    "    \n",
    "fname = '/home/tako/.fastai/archive/traffic.txt.gz'\n",
    "path = untar_data(URLs.traffic, extract_func=)\n"
   ]
  },
  {
   "cell_type": "code",
   "execution_count": 10,
   "metadata": {},
   "outputs": [
    {
     "ename": "ReadError",
     "evalue": "invalid header",
     "output_type": "error",
     "traceback": [
      "\u001b[0;31m---------------------------------------------------------------------------\u001b[0m",
      "\u001b[0;31mValueError\u001b[0m                                Traceback (most recent call last)",
      "\u001b[0;32m~/dev/env37/lib/python3.7/tarfile.py\u001b[0m in \u001b[0;36mnti\u001b[0;34m(s)\u001b[0m\n\u001b[1;32m    186\u001b[0m             \u001b[0ms\u001b[0m \u001b[0;34m=\u001b[0m \u001b[0mnts\u001b[0m\u001b[0;34m(\u001b[0m\u001b[0ms\u001b[0m\u001b[0;34m,\u001b[0m \u001b[0;34m\"ascii\"\u001b[0m\u001b[0;34m,\u001b[0m \u001b[0;34m\"strict\"\u001b[0m\u001b[0;34m)\u001b[0m\u001b[0;34m\u001b[0m\u001b[0;34m\u001b[0m\u001b[0m\n\u001b[0;32m--> 187\u001b[0;31m             \u001b[0mn\u001b[0m \u001b[0;34m=\u001b[0m \u001b[0mint\u001b[0m\u001b[0;34m(\u001b[0m\u001b[0ms\u001b[0m\u001b[0;34m.\u001b[0m\u001b[0mstrip\u001b[0m\u001b[0;34m(\u001b[0m\u001b[0;34m)\u001b[0m \u001b[0;32mor\u001b[0m \u001b[0;34m\"0\"\u001b[0m\u001b[0;34m,\u001b[0m \u001b[0;36m8\u001b[0m\u001b[0;34m)\u001b[0m\u001b[0;34m\u001b[0m\u001b[0;34m\u001b[0m\u001b[0m\n\u001b[0m\u001b[1;32m    188\u001b[0m         \u001b[0;32mexcept\u001b[0m \u001b[0mValueError\u001b[0m\u001b[0;34m:\u001b[0m\u001b[0;34m\u001b[0m\u001b[0;34m\u001b[0m\u001b[0m\n",
      "\u001b[0;31mValueError\u001b[0m: invalid literal for int() with base 8: '6100,0.0'",
      "\nDuring handling of the above exception, another exception occurred:\n",
      "\u001b[0;31mInvalidHeaderError\u001b[0m                        Traceback (most recent call last)",
      "\u001b[0;32m~/dev/env37/lib/python3.7/tarfile.py\u001b[0m in \u001b[0;36mnext\u001b[0;34m(self)\u001b[0m\n\u001b[1;32m   2288\u001b[0m             \u001b[0;32mtry\u001b[0m\u001b[0;34m:\u001b[0m\u001b[0;34m\u001b[0m\u001b[0;34m\u001b[0m\u001b[0m\n\u001b[0;32m-> 2289\u001b[0;31m                 \u001b[0mtarinfo\u001b[0m \u001b[0;34m=\u001b[0m \u001b[0mself\u001b[0m\u001b[0;34m.\u001b[0m\u001b[0mtarinfo\u001b[0m\u001b[0;34m.\u001b[0m\u001b[0mfromtarfile\u001b[0m\u001b[0;34m(\u001b[0m\u001b[0mself\u001b[0m\u001b[0;34m)\u001b[0m\u001b[0;34m\u001b[0m\u001b[0;34m\u001b[0m\u001b[0m\n\u001b[0m\u001b[1;32m   2290\u001b[0m             \u001b[0;32mexcept\u001b[0m \u001b[0mEOFHeaderError\u001b[0m \u001b[0;32mas\u001b[0m \u001b[0me\u001b[0m\u001b[0;34m:\u001b[0m\u001b[0;34m\u001b[0m\u001b[0;34m\u001b[0m\u001b[0m\n",
      "\u001b[0;32m~/dev/env37/lib/python3.7/tarfile.py\u001b[0m in \u001b[0;36mfromtarfile\u001b[0;34m(cls, tarfile)\u001b[0m\n\u001b[1;32m   1094\u001b[0m         \u001b[0mbuf\u001b[0m \u001b[0;34m=\u001b[0m \u001b[0mtarfile\u001b[0m\u001b[0;34m.\u001b[0m\u001b[0mfileobj\u001b[0m\u001b[0;34m.\u001b[0m\u001b[0mread\u001b[0m\u001b[0;34m(\u001b[0m\u001b[0mBLOCKSIZE\u001b[0m\u001b[0;34m)\u001b[0m\u001b[0;34m\u001b[0m\u001b[0;34m\u001b[0m\u001b[0m\n\u001b[0;32m-> 1095\u001b[0;31m         \u001b[0mobj\u001b[0m \u001b[0;34m=\u001b[0m \u001b[0mcls\u001b[0m\u001b[0;34m.\u001b[0m\u001b[0mfrombuf\u001b[0m\u001b[0;34m(\u001b[0m\u001b[0mbuf\u001b[0m\u001b[0;34m,\u001b[0m \u001b[0mtarfile\u001b[0m\u001b[0;34m.\u001b[0m\u001b[0mencoding\u001b[0m\u001b[0;34m,\u001b[0m \u001b[0mtarfile\u001b[0m\u001b[0;34m.\u001b[0m\u001b[0merrors\u001b[0m\u001b[0;34m)\u001b[0m\u001b[0;34m\u001b[0m\u001b[0;34m\u001b[0m\u001b[0m\n\u001b[0m\u001b[1;32m   1096\u001b[0m         \u001b[0mobj\u001b[0m\u001b[0;34m.\u001b[0m\u001b[0moffset\u001b[0m \u001b[0;34m=\u001b[0m \u001b[0mtarfile\u001b[0m\u001b[0;34m.\u001b[0m\u001b[0mfileobj\u001b[0m\u001b[0;34m.\u001b[0m\u001b[0mtell\u001b[0m\u001b[0;34m(\u001b[0m\u001b[0;34m)\u001b[0m \u001b[0;34m-\u001b[0m \u001b[0mBLOCKSIZE\u001b[0m\u001b[0;34m\u001b[0m\u001b[0;34m\u001b[0m\u001b[0m\n",
      "\u001b[0;32m~/dev/env37/lib/python3.7/tarfile.py\u001b[0m in \u001b[0;36mfrombuf\u001b[0;34m(cls, buf, encoding, errors)\u001b[0m\n\u001b[1;32m   1036\u001b[0m \u001b[0;34m\u001b[0m\u001b[0m\n\u001b[0;32m-> 1037\u001b[0;31m         \u001b[0mchksum\u001b[0m \u001b[0;34m=\u001b[0m \u001b[0mnti\u001b[0m\u001b[0;34m(\u001b[0m\u001b[0mbuf\u001b[0m\u001b[0;34m[\u001b[0m\u001b[0;36m148\u001b[0m\u001b[0;34m:\u001b[0m\u001b[0;36m156\u001b[0m\u001b[0;34m]\u001b[0m\u001b[0;34m)\u001b[0m\u001b[0;34m\u001b[0m\u001b[0;34m\u001b[0m\u001b[0m\n\u001b[0m\u001b[1;32m   1038\u001b[0m         \u001b[0;32mif\u001b[0m \u001b[0mchksum\u001b[0m \u001b[0;32mnot\u001b[0m \u001b[0;32min\u001b[0m \u001b[0mcalc_chksums\u001b[0m\u001b[0;34m(\u001b[0m\u001b[0mbuf\u001b[0m\u001b[0;34m)\u001b[0m\u001b[0;34m:\u001b[0m\u001b[0;34m\u001b[0m\u001b[0;34m\u001b[0m\u001b[0m\n",
      "\u001b[0;32m~/dev/env37/lib/python3.7/tarfile.py\u001b[0m in \u001b[0;36mnti\u001b[0;34m(s)\u001b[0m\n\u001b[1;32m    188\u001b[0m         \u001b[0;32mexcept\u001b[0m \u001b[0mValueError\u001b[0m\u001b[0;34m:\u001b[0m\u001b[0;34m\u001b[0m\u001b[0;34m\u001b[0m\u001b[0m\n\u001b[0;32m--> 189\u001b[0;31m             \u001b[0;32mraise\u001b[0m \u001b[0mInvalidHeaderError\u001b[0m\u001b[0;34m(\u001b[0m\u001b[0;34m\"invalid header\"\u001b[0m\u001b[0;34m)\u001b[0m\u001b[0;34m\u001b[0m\u001b[0;34m\u001b[0m\u001b[0m\n\u001b[0m\u001b[1;32m    190\u001b[0m     \u001b[0;32mreturn\u001b[0m \u001b[0mn\u001b[0m\u001b[0;34m\u001b[0m\u001b[0;34m\u001b[0m\u001b[0m\n",
      "\u001b[0;31mInvalidHeaderError\u001b[0m: invalid header",
      "\nDuring handling of the above exception, another exception occurred:\n",
      "\u001b[0;31mReadError\u001b[0m                                 Traceback (most recent call last)",
      "\u001b[0;32m<ipython-input-10-6b284e903793>\u001b[0m in \u001b[0;36m<module>\u001b[0;34m\u001b[0m\n\u001b[0;32m----> 1\u001b[0;31m \u001b[0mpath\u001b[0m \u001b[0;34m=\u001b[0m \u001b[0muntar_data\u001b[0m\u001b[0;34m(\u001b[0m\u001b[0mURLs\u001b[0m\u001b[0;34m.\u001b[0m\u001b[0mtraffic\u001b[0m\u001b[0;34m)\u001b[0m\u001b[0;34m\u001b[0m\u001b[0;34m\u001b[0m\u001b[0m\n\u001b[0m",
      "\u001b[0;32m~/dev/env37/lib/python3.7/site-packages/fastai2/data/external.py\u001b[0m in \u001b[0;36muntar_data\u001b[0;34m(url, fname, dest, c_key, force_download, extract_func)\u001b[0m\n\u001b[1;32m    215\u001b[0m         \u001b[0;32mif\u001b[0m \u001b[0m_get_check\u001b[0m\u001b[0;34m(\u001b[0m\u001b[0murl\u001b[0m\u001b[0;34m)\u001b[0m \u001b[0;32mand\u001b[0m \u001b[0m_check_file\u001b[0m\u001b[0;34m(\u001b[0m\u001b[0mfname\u001b[0m\u001b[0;34m)\u001b[0m \u001b[0;34m!=\u001b[0m \u001b[0m_get_check\u001b[0m\u001b[0;34m(\u001b[0m\u001b[0murl\u001b[0m\u001b[0;34m)\u001b[0m\u001b[0;34m:\u001b[0m\u001b[0;34m\u001b[0m\u001b[0;34m\u001b[0m\u001b[0m\n\u001b[1;32m    216\u001b[0m             \u001b[0mprint\u001b[0m\u001b[0;34m(\u001b[0m\u001b[0;34mf\"File downloaded is broken. Remove {fname} and try again.\"\u001b[0m\u001b[0;34m)\u001b[0m\u001b[0;34m\u001b[0m\u001b[0;34m\u001b[0m\u001b[0m\n\u001b[0;32m--> 217\u001b[0;31m         \u001b[0mextract_func\u001b[0m\u001b[0;34m(\u001b[0m\u001b[0mfname\u001b[0m\u001b[0;34m,\u001b[0m \u001b[0mdest\u001b[0m\u001b[0;34m.\u001b[0m\u001b[0mparent\u001b[0m\u001b[0;34m)\u001b[0m\u001b[0;34m\u001b[0m\u001b[0;34m\u001b[0m\u001b[0m\n\u001b[0m\u001b[1;32m    218\u001b[0m     \u001b[0;32mreturn\u001b[0m \u001b[0mdest\u001b[0m\u001b[0;34m\u001b[0m\u001b[0;34m\u001b[0m\u001b[0m\n",
      "\u001b[0;32m~/dev/env37/lib/python3.7/site-packages/fastai2/data/external.py\u001b[0m in \u001b[0;36mfile_extract\u001b[0;34m(fname, dest)\u001b[0m\n\u001b[1;32m    195\u001b[0m     \u001b[0;32mif\u001b[0m \u001b[0mdest\u001b[0m \u001b[0;32mis\u001b[0m \u001b[0;32mNone\u001b[0m\u001b[0;34m:\u001b[0m \u001b[0mdest\u001b[0m \u001b[0;34m=\u001b[0m \u001b[0mPath\u001b[0m\u001b[0;34m(\u001b[0m\u001b[0mfname\u001b[0m\u001b[0;34m)\u001b[0m\u001b[0;34m.\u001b[0m\u001b[0mparent\u001b[0m\u001b[0;34m\u001b[0m\u001b[0;34m\u001b[0m\u001b[0m\n\u001b[1;32m    196\u001b[0m     \u001b[0mfname\u001b[0m \u001b[0;34m=\u001b[0m \u001b[0mstr\u001b[0m\u001b[0;34m(\u001b[0m\u001b[0mfname\u001b[0m\u001b[0;34m)\u001b[0m\u001b[0;34m\u001b[0m\u001b[0;34m\u001b[0m\u001b[0m\n\u001b[0;32m--> 197\u001b[0;31m     \u001b[0;32mif\u001b[0m   \u001b[0mfname\u001b[0m\u001b[0;34m.\u001b[0m\u001b[0mendswith\u001b[0m\u001b[0;34m(\u001b[0m\u001b[0;34m'gz'\u001b[0m\u001b[0;34m)\u001b[0m\u001b[0;34m:\u001b[0m  \u001b[0mtarfile\u001b[0m\u001b[0;34m.\u001b[0m\u001b[0mopen\u001b[0m\u001b[0;34m(\u001b[0m\u001b[0mfname\u001b[0m\u001b[0;34m,\u001b[0m \u001b[0;34m'r:gz'\u001b[0m\u001b[0;34m)\u001b[0m\u001b[0;34m.\u001b[0m\u001b[0mextractall\u001b[0m\u001b[0;34m(\u001b[0m\u001b[0mdest\u001b[0m\u001b[0;34m)\u001b[0m\u001b[0;34m\u001b[0m\u001b[0;34m\u001b[0m\u001b[0m\n\u001b[0m\u001b[1;32m    198\u001b[0m     \u001b[0;32melif\u001b[0m \u001b[0mfname\u001b[0m\u001b[0;34m.\u001b[0m\u001b[0mendswith\u001b[0m\u001b[0;34m(\u001b[0m\u001b[0;34m'zip'\u001b[0m\u001b[0;34m)\u001b[0m\u001b[0;34m:\u001b[0m \u001b[0mzipfile\u001b[0m\u001b[0;34m.\u001b[0m\u001b[0mZipFile\u001b[0m\u001b[0;34m(\u001b[0m\u001b[0mfname\u001b[0m     \u001b[0;34m)\u001b[0m\u001b[0;34m.\u001b[0m\u001b[0mextractall\u001b[0m\u001b[0;34m(\u001b[0m\u001b[0mdest\u001b[0m\u001b[0;34m)\u001b[0m\u001b[0;34m\u001b[0m\u001b[0;34m\u001b[0m\u001b[0m\n\u001b[1;32m    199\u001b[0m     \u001b[0;32melse\u001b[0m\u001b[0;34m:\u001b[0m \u001b[0;32mraise\u001b[0m \u001b[0mException\u001b[0m\u001b[0;34m(\u001b[0m\u001b[0;34mf'Unrecognized archive: {fname}'\u001b[0m\u001b[0;34m)\u001b[0m\u001b[0;34m\u001b[0m\u001b[0;34m\u001b[0m\u001b[0m\n",
      "\u001b[0;32m~/dev/env37/lib/python3.7/tarfile.py\u001b[0m in \u001b[0;36mopen\u001b[0;34m(cls, name, mode, fileobj, bufsize, **kwargs)\u001b[0m\n\u001b[1;32m   1589\u001b[0m             \u001b[0;32melse\u001b[0m\u001b[0;34m:\u001b[0m\u001b[0;34m\u001b[0m\u001b[0;34m\u001b[0m\u001b[0m\n\u001b[1;32m   1590\u001b[0m                 \u001b[0;32mraise\u001b[0m \u001b[0mCompressionError\u001b[0m\u001b[0;34m(\u001b[0m\u001b[0;34m\"unknown compression type %r\"\u001b[0m \u001b[0;34m%\u001b[0m \u001b[0mcomptype\u001b[0m\u001b[0;34m)\u001b[0m\u001b[0;34m\u001b[0m\u001b[0;34m\u001b[0m\u001b[0m\n\u001b[0;32m-> 1591\u001b[0;31m             \u001b[0;32mreturn\u001b[0m \u001b[0mfunc\u001b[0m\u001b[0;34m(\u001b[0m\u001b[0mname\u001b[0m\u001b[0;34m,\u001b[0m \u001b[0mfilemode\u001b[0m\u001b[0;34m,\u001b[0m \u001b[0mfileobj\u001b[0m\u001b[0;34m,\u001b[0m \u001b[0;34m**\u001b[0m\u001b[0mkwargs\u001b[0m\u001b[0;34m)\u001b[0m\u001b[0;34m\u001b[0m\u001b[0;34m\u001b[0m\u001b[0m\n\u001b[0m\u001b[1;32m   1592\u001b[0m \u001b[0;34m\u001b[0m\u001b[0m\n\u001b[1;32m   1593\u001b[0m         \u001b[0;32melif\u001b[0m \u001b[0;34m\"|\"\u001b[0m \u001b[0;32min\u001b[0m \u001b[0mmode\u001b[0m\u001b[0;34m:\u001b[0m\u001b[0;34m\u001b[0m\u001b[0;34m\u001b[0m\u001b[0m\n",
      "\u001b[0;32m~/dev/env37/lib/python3.7/tarfile.py\u001b[0m in \u001b[0;36mgzopen\u001b[0;34m(cls, name, mode, fileobj, compresslevel, **kwargs)\u001b[0m\n\u001b[1;32m   1643\u001b[0m \u001b[0;34m\u001b[0m\u001b[0m\n\u001b[1;32m   1644\u001b[0m         \u001b[0;32mtry\u001b[0m\u001b[0;34m:\u001b[0m\u001b[0;34m\u001b[0m\u001b[0;34m\u001b[0m\u001b[0m\n\u001b[0;32m-> 1645\u001b[0;31m             \u001b[0mt\u001b[0m \u001b[0;34m=\u001b[0m \u001b[0mcls\u001b[0m\u001b[0;34m.\u001b[0m\u001b[0mtaropen\u001b[0m\u001b[0;34m(\u001b[0m\u001b[0mname\u001b[0m\u001b[0;34m,\u001b[0m \u001b[0mmode\u001b[0m\u001b[0;34m,\u001b[0m \u001b[0mfileobj\u001b[0m\u001b[0;34m,\u001b[0m \u001b[0;34m**\u001b[0m\u001b[0mkwargs\u001b[0m\u001b[0;34m)\u001b[0m\u001b[0;34m\u001b[0m\u001b[0;34m\u001b[0m\u001b[0m\n\u001b[0m\u001b[1;32m   1646\u001b[0m         \u001b[0;32mexcept\u001b[0m \u001b[0mOSError\u001b[0m\u001b[0;34m:\u001b[0m\u001b[0;34m\u001b[0m\u001b[0;34m\u001b[0m\u001b[0m\n\u001b[1;32m   1647\u001b[0m             \u001b[0mfileobj\u001b[0m\u001b[0;34m.\u001b[0m\u001b[0mclose\u001b[0m\u001b[0;34m(\u001b[0m\u001b[0;34m)\u001b[0m\u001b[0;34m\u001b[0m\u001b[0;34m\u001b[0m\u001b[0m\n",
      "\u001b[0;32m~/dev/env37/lib/python3.7/tarfile.py\u001b[0m in \u001b[0;36mtaropen\u001b[0;34m(cls, name, mode, fileobj, **kwargs)\u001b[0m\n\u001b[1;32m   1619\u001b[0m         \u001b[0;32mif\u001b[0m \u001b[0mmode\u001b[0m \u001b[0;32mnot\u001b[0m \u001b[0;32min\u001b[0m \u001b[0;34m(\u001b[0m\u001b[0;34m\"r\"\u001b[0m\u001b[0;34m,\u001b[0m \u001b[0;34m\"a\"\u001b[0m\u001b[0;34m,\u001b[0m \u001b[0;34m\"w\"\u001b[0m\u001b[0;34m,\u001b[0m \u001b[0;34m\"x\"\u001b[0m\u001b[0;34m)\u001b[0m\u001b[0;34m:\u001b[0m\u001b[0;34m\u001b[0m\u001b[0;34m\u001b[0m\u001b[0m\n\u001b[1;32m   1620\u001b[0m             \u001b[0;32mraise\u001b[0m \u001b[0mValueError\u001b[0m\u001b[0;34m(\u001b[0m\u001b[0;34m\"mode must be 'r', 'a', 'w' or 'x'\"\u001b[0m\u001b[0;34m)\u001b[0m\u001b[0;34m\u001b[0m\u001b[0;34m\u001b[0m\u001b[0m\n\u001b[0;32m-> 1621\u001b[0;31m         \u001b[0;32mreturn\u001b[0m \u001b[0mcls\u001b[0m\u001b[0;34m(\u001b[0m\u001b[0mname\u001b[0m\u001b[0;34m,\u001b[0m \u001b[0mmode\u001b[0m\u001b[0;34m,\u001b[0m \u001b[0mfileobj\u001b[0m\u001b[0;34m,\u001b[0m \u001b[0;34m**\u001b[0m\u001b[0mkwargs\u001b[0m\u001b[0;34m)\u001b[0m\u001b[0;34m\u001b[0m\u001b[0;34m\u001b[0m\u001b[0m\n\u001b[0m\u001b[1;32m   1622\u001b[0m \u001b[0;34m\u001b[0m\u001b[0m\n\u001b[1;32m   1623\u001b[0m     \u001b[0;34m@\u001b[0m\u001b[0mclassmethod\u001b[0m\u001b[0;34m\u001b[0m\u001b[0;34m\u001b[0m\u001b[0m\n",
      "\u001b[0;32m~/dev/env37/lib/python3.7/tarfile.py\u001b[0m in \u001b[0;36m__init__\u001b[0;34m(self, name, mode, fileobj, format, tarinfo, dereference, ignore_zeros, encoding, errors, pax_headers, debug, errorlevel, copybufsize)\u001b[0m\n\u001b[1;32m   1482\u001b[0m             \u001b[0;32mif\u001b[0m \u001b[0mself\u001b[0m\u001b[0;34m.\u001b[0m\u001b[0mmode\u001b[0m \u001b[0;34m==\u001b[0m \u001b[0;34m\"r\"\u001b[0m\u001b[0;34m:\u001b[0m\u001b[0;34m\u001b[0m\u001b[0;34m\u001b[0m\u001b[0m\n\u001b[1;32m   1483\u001b[0m                 \u001b[0mself\u001b[0m\u001b[0;34m.\u001b[0m\u001b[0mfirstmember\u001b[0m \u001b[0;34m=\u001b[0m \u001b[0;32mNone\u001b[0m\u001b[0;34m\u001b[0m\u001b[0;34m\u001b[0m\u001b[0m\n\u001b[0;32m-> 1484\u001b[0;31m                 \u001b[0mself\u001b[0m\u001b[0;34m.\u001b[0m\u001b[0mfirstmember\u001b[0m \u001b[0;34m=\u001b[0m \u001b[0mself\u001b[0m\u001b[0;34m.\u001b[0m\u001b[0mnext\u001b[0m\u001b[0;34m(\u001b[0m\u001b[0;34m)\u001b[0m\u001b[0;34m\u001b[0m\u001b[0;34m\u001b[0m\u001b[0m\n\u001b[0m\u001b[1;32m   1485\u001b[0m \u001b[0;34m\u001b[0m\u001b[0m\n\u001b[1;32m   1486\u001b[0m             \u001b[0;32mif\u001b[0m \u001b[0mself\u001b[0m\u001b[0;34m.\u001b[0m\u001b[0mmode\u001b[0m \u001b[0;34m==\u001b[0m \u001b[0;34m\"a\"\u001b[0m\u001b[0;34m:\u001b[0m\u001b[0;34m\u001b[0m\u001b[0;34m\u001b[0m\u001b[0m\n",
      "\u001b[0;32m~/dev/env37/lib/python3.7/tarfile.py\u001b[0m in \u001b[0;36mnext\u001b[0;34m(self)\u001b[0m\n\u001b[1;32m   2299\u001b[0m                     \u001b[0;32mcontinue\u001b[0m\u001b[0;34m\u001b[0m\u001b[0;34m\u001b[0m\u001b[0m\n\u001b[1;32m   2300\u001b[0m                 \u001b[0;32melif\u001b[0m \u001b[0mself\u001b[0m\u001b[0;34m.\u001b[0m\u001b[0moffset\u001b[0m \u001b[0;34m==\u001b[0m \u001b[0;36m0\u001b[0m\u001b[0;34m:\u001b[0m\u001b[0;34m\u001b[0m\u001b[0;34m\u001b[0m\u001b[0m\n\u001b[0;32m-> 2301\u001b[0;31m                     \u001b[0;32mraise\u001b[0m \u001b[0mReadError\u001b[0m\u001b[0;34m(\u001b[0m\u001b[0mstr\u001b[0m\u001b[0;34m(\u001b[0m\u001b[0me\u001b[0m\u001b[0;34m)\u001b[0m\u001b[0;34m)\u001b[0m\u001b[0;34m\u001b[0m\u001b[0;34m\u001b[0m\u001b[0m\n\u001b[0m\u001b[1;32m   2302\u001b[0m             \u001b[0;32mexcept\u001b[0m \u001b[0mEmptyHeaderError\u001b[0m\u001b[0;34m:\u001b[0m\u001b[0;34m\u001b[0m\u001b[0;34m\u001b[0m\u001b[0m\n\u001b[1;32m   2303\u001b[0m                 \u001b[0;32mif\u001b[0m \u001b[0mself\u001b[0m\u001b[0;34m.\u001b[0m\u001b[0moffset\u001b[0m \u001b[0;34m==\u001b[0m \u001b[0;36m0\u001b[0m\u001b[0;34m:\u001b[0m\u001b[0;34m\u001b[0m\u001b[0;34m\u001b[0m\u001b[0m\n",
      "\u001b[0;31mReadError\u001b[0m: invalid header"
     ]
    }
   ],
   "source": [
    "path = untar_data(URLs.traffic)"
   ]
  },
  {
   "cell_type": "code",
   "execution_count": null,
   "metadata": {},
   "outputs": [],
   "source": [
    "(path.parent / 'traffic').ls()"
   ]
  },
  {
   "cell_type": "markdown",
   "metadata": {},
   "source": [
    "## M4 daily"
   ]
  },
  {
   "cell_type": "code",
   "execution_count": 11,
   "metadata": {},
   "outputs": [
    {
     "data": {
      "text/plain": [
       "'https://s3.amazonaws.com/fast-ai-imageclas/imagewoof2.tgz'"
      ]
     },
     "execution_count": 11,
     "metadata": {},
     "output_type": "execute_result"
    }
   ],
   "source": [
    "# hide\n",
    "URLs.IMAGEWOOF"
   ]
  },
  {
   "cell_type": "code",
   "execution_count": 12,
   "metadata": {},
   "outputs": [],
   "source": [
    "# hide\n",
    "path = untar_data(URLs.IMAGEWOOF)"
   ]
  },
  {
   "cell_type": "code",
   "execution_count": 13,
   "metadata": {},
   "outputs": [
    {
     "data": {
      "text/plain": [
       "(#2) [Path('/home/tako/.fastai/data/imagewoof2/val'),Path('/home/tako/.fastai/data/imagewoof2/train')]"
      ]
     },
     "execution_count": 13,
     "metadata": {},
     "output_type": "execute_result"
    }
   ],
   "source": [
    "# hide\n",
    "path.ls()"
   ]
  },
  {
   "cell_type": "code",
   "execution_count": 14,
   "metadata": {},
   "outputs": [],
   "source": [
    "# export\n",
    "m4_base = \"https://motionnet-m4-dataset.s3.eu-central-1.amazonaws.com/\"\n",
    "URLs.m4_daily = f'{m4_base}m4_daily.tgz'"
   ]
  },
  {
   "cell_type": "code",
   "execution_count": 15,
   "metadata": {},
   "outputs": [
    {
     "data": {
      "text/plain": [
       "'https://motionnet-m4-dataset.s3.eu-central-1.amazonaws.com/m4_daily.tgz'"
      ]
     },
     "execution_count": 15,
     "metadata": {},
     "output_type": "execute_result"
    }
   ],
   "source": [
    "URLs.m4_daily"
   ]
  },
  {
   "cell_type": "code",
   "execution_count": 16,
   "metadata": {},
   "outputs": [],
   "source": [
    "# hide\n",
    "try:\n",
    "    os.remove(URLs.path(URLs.m4_daily))\n",
    "except:\n",
    "    pass\n",
    "path = untar_data(URLs.m4_daily)"
   ]
  },
  {
   "cell_type": "code",
   "execution_count": 17,
   "metadata": {},
   "outputs": [
    {
     "data": {
      "text/plain": [
       "(#2) [Path('/home/tako/.fastai/data/m4_daily/train.csv'),Path('/home/tako/.fastai/data/m4_daily/val.csv')]"
      ]
     },
     "execution_count": 17,
     "metadata": {},
     "output_type": "execute_result"
    }
   ],
   "source": [
    "path = untar_data(URLs.m4_daily)\n",
    "path.ls()"
   ]
  },
  {
   "cell_type": "code",
   "execution_count": 18,
   "metadata": {},
   "outputs": [],
   "source": [
    "# export\n",
    "def ts_lists(ts:np.ndarray, same_size = False)-> L:\n",
    "    \"\"\"Transforms a `np.ndarray` of shape (timeseries, max_time) to a list of timeseries with shape (1,time).\n",
    "    \"\"\"\n",
    "    lst = L()\n",
    "    for time_series in ts:\n",
    "        l = slice(0,len(time_series)) if same_size else ~np.isnan(time_series)\n",
    "        lst.append(time_series[l][None,:])\n",
    "    return lst"
   ]
  },
  {
   "cell_type": "code",
   "execution_count": 19,
   "metadata": {},
   "outputs": [
    {
     "name": "stdout",
     "output_type": "stream",
     "text": [
      "(#3) [array([[1., 3.]]),array([[1., 2., 3.]]),array([[1.]])]\n",
      "(#3) [array([[ 1.,  3., nan]]),array([[1., 2., 3.]]),array([[ 1., nan, nan]])]\n"
     ]
    }
   ],
   "source": [
    "o = np.array([[1,3,np.nan],\n",
    "         [1,2,3],\n",
    "         [1,np.nan,np.nan],\n",
    "         ])\n",
    "print(ts_lists(o))\n",
    "print(ts_lists(o, True))"
   ]
  },
  {
   "cell_type": "code",
   "execution_count": 20,
   "metadata": {},
   "outputs": [],
   "source": [
    "# export\n",
    "\n",
    "m4_base = \"https://motionnet-m4-dataset.s3.eu-central-1.amazonaws.com/\"\n",
    "URLs.m4_daily = f'{m4_base}m4_daily.tgz'\n",
    "\n",
    "def get_m4_files(path):\n",
    "    \"Get times series from files in `path` recursively, only in `folders`, if specified.\"\n",
    "    path = untar_data(URLs.m4_daily)\n",
    "    train = pd.read_csv(path / 'train.csv', **kwargs).iloc[:, 1:].values\n",
    "    valid = pd.read_csv(path / 'val.csv', **kwargs).iloc[:, 1:].values    \n",
    "    return train, valid"
   ]
  },
  {
   "cell_type": "code",
   "execution_count": 21,
   "metadata": {},
   "outputs": [
    {
     "ename": "NameError",
     "evalue": "name 'kwargs' is not defined",
     "output_type": "error",
     "traceback": [
      "\u001b[0;31m---------------------------------------------------------------------------\u001b[0m",
      "\u001b[0;31mNameError\u001b[0m                                 Traceback (most recent call last)",
      "\u001b[0;32m<ipython-input-21-1b46bd700336>\u001b[0m in \u001b[0;36m<module>\u001b[0;34m\u001b[0m\n\u001b[0;32m----> 1\u001b[0;31m \u001b[0mx_train\u001b[0m\u001b[0;34m,\u001b[0m \u001b[0mx_valid\u001b[0m \u001b[0;34m=\u001b[0m \u001b[0mget_m4_files\u001b[0m\u001b[0;34m(\u001b[0m\u001b[0mpath\u001b[0m\u001b[0;34m)\u001b[0m\u001b[0;34m\u001b[0m\u001b[0;34m\u001b[0m\u001b[0m\n\u001b[0m",
      "\u001b[0;32m<ipython-input-20-6a3dfe3b4667>\u001b[0m in \u001b[0;36mget_m4_files\u001b[0;34m(path)\u001b[0m\n\u001b[1;32m      7\u001b[0m     \u001b[0;34m\"Get times series from files in `path` recursively, only in `folders`, if specified.\"\u001b[0m\u001b[0;34m\u001b[0m\u001b[0;34m\u001b[0m\u001b[0m\n\u001b[1;32m      8\u001b[0m     \u001b[0mpath\u001b[0m \u001b[0;34m=\u001b[0m \u001b[0muntar_data\u001b[0m\u001b[0;34m(\u001b[0m\u001b[0mURLs\u001b[0m\u001b[0;34m.\u001b[0m\u001b[0mm4_daily\u001b[0m\u001b[0;34m)\u001b[0m\u001b[0;34m\u001b[0m\u001b[0;34m\u001b[0m\u001b[0m\n\u001b[0;32m----> 9\u001b[0;31m     \u001b[0mtrain\u001b[0m \u001b[0;34m=\u001b[0m \u001b[0mpd\u001b[0m\u001b[0;34m.\u001b[0m\u001b[0mread_csv\u001b[0m\u001b[0;34m(\u001b[0m\u001b[0mpath\u001b[0m \u001b[0;34m/\u001b[0m \u001b[0;34m'train.csv'\u001b[0m\u001b[0;34m,\u001b[0m \u001b[0;34m**\u001b[0m\u001b[0mkwargs\u001b[0m\u001b[0;34m)\u001b[0m\u001b[0;34m.\u001b[0m\u001b[0miloc\u001b[0m\u001b[0;34m[\u001b[0m\u001b[0;34m:\u001b[0m\u001b[0;34m,\u001b[0m \u001b[0;36m1\u001b[0m\u001b[0;34m:\u001b[0m\u001b[0;34m]\u001b[0m\u001b[0;34m.\u001b[0m\u001b[0mvalues\u001b[0m\u001b[0;34m\u001b[0m\u001b[0;34m\u001b[0m\u001b[0m\n\u001b[0m\u001b[1;32m     10\u001b[0m     \u001b[0mvalid\u001b[0m \u001b[0;34m=\u001b[0m \u001b[0mpd\u001b[0m\u001b[0;34m.\u001b[0m\u001b[0mread_csv\u001b[0m\u001b[0;34m(\u001b[0m\u001b[0mpath\u001b[0m \u001b[0;34m/\u001b[0m \u001b[0;34m'val.csv'\u001b[0m\u001b[0;34m,\u001b[0m \u001b[0;34m**\u001b[0m\u001b[0mkwargs\u001b[0m\u001b[0;34m)\u001b[0m\u001b[0;34m.\u001b[0m\u001b[0miloc\u001b[0m\u001b[0;34m[\u001b[0m\u001b[0;34m:\u001b[0m\u001b[0;34m,\u001b[0m \u001b[0;36m1\u001b[0m\u001b[0;34m:\u001b[0m\u001b[0;34m]\u001b[0m\u001b[0;34m.\u001b[0m\u001b[0mvalues\u001b[0m\u001b[0;34m\u001b[0m\u001b[0;34m\u001b[0m\u001b[0m\n\u001b[1;32m     11\u001b[0m     \u001b[0;32mreturn\u001b[0m \u001b[0mtrain\u001b[0m\u001b[0;34m,\u001b[0m \u001b[0mvalid\u001b[0m\u001b[0;34m\u001b[0m\u001b[0;34m\u001b[0m\u001b[0m\n",
      "\u001b[0;31mNameError\u001b[0m: name 'kwargs' is not defined"
     ]
    }
   ],
   "source": [
    "x_train, x_valid = get_m4_files(path)"
   ]
  },
  {
   "cell_type": "code",
   "execution_count": null,
   "metadata": {},
   "outputs": [],
   "source": [
    "x_train.shape, x_valid.shape"
   ]
  },
  {
   "cell_type": "code",
   "execution_count": 22,
   "metadata": {},
   "outputs": [
    {
     "data": {
      "text/plain": [
       "(#2) [Path('/home/tako/.fastai/data/m4_daily/train.csv'),Path('/home/tako/.fastai/data/m4_daily/val.csv')]"
      ]
     },
     "execution_count": 22,
     "metadata": {},
     "output_type": "execute_result"
    }
   ],
   "source": [
    "# hide\n",
    "test_eq(len(path.ls()),2)\n",
    "path.ls()"
   ]
  },
  {
   "cell_type": "markdown",
   "metadata": {},
   "source": [
    "## dummy"
   ]
  },
  {
   "cell_type": "code",
   "execution_count": 23,
   "metadata": {},
   "outputs": [],
   "source": [
    "# export \n",
    "def dummy_data_generator(lookback:int, horizon:int, signal_type='seasonality', nrows:int=5, random = True, batch_size=32, norm=False, noise = .2):\n",
    "    def get_datapoint():\n",
    "        lin_space = np.linspace(-lookback, horizon, lookback + horizon)\n",
    "        if random:\n",
    "            offset = np.random.standard_normal() * .10\n",
    "        else:\n",
    "            offset = 1            \n",
    "        if signal_type == 'lin':\n",
    "            a =  np.random.standard_normal() * lin_space + offset * 100\n",
    "        \n",
    "        a = np.zeros_like(lin_space)            \n",
    "        if signal_type is not 'seasonality':\n",
    "            p = 4\n",
    "            a = [(lin_space**(i))[None,:] for i in range(p)]\n",
    "            T = np.concatenate(a)\n",
    "            thetas = np.random.randn(4)*1*9**-p\n",
    "            a= np.matmul(thetas,T) \n",
    "            \n",
    "        if signal_type is not 'trend':\n",
    "            a += np.cos(2 * np.random.randint(low=1, high=3) * np.pi * lin_space)* np.random.standard_normal() * .5\n",
    "            a += np.cos(2 * np.random.randint(low=2, high=4) * np.pi * lin_space)* np.random.standard_normal() * .5\n",
    "            a += np.sin(2 * np.random.randint(low=1, high=3) * np.pi * lin_space)\n",
    "            a -= np.sin(2 * np.random.randint(low=2, high=4) * np.pi * lin_space)\n",
    "            a += lin_space * offset + np.random.rand() * 10\n",
    "            \n",
    "        a += np.random.randn(a.shape[0])*noise\n",
    "        if norm:\n",
    "            return (a[None,:]-a.mean())/a.std()\n",
    "        else:\n",
    "            return a[None,:]\n",
    "    \n",
    "    data = L()\n",
    "    for i in range(nrows):\n",
    "        data.append(get_datapoint())        \n",
    "        \n",
    "    return data\n"
   ]
  },
  {
   "cell_type": "code",
   "execution_count": 24,
   "metadata": {},
   "outputs": [
    {
     "data": {
      "text/plain": [
       "[<matplotlib.lines.Line2D at 0x7fd581053f50>]"
      ]
     },
     "execution_count": 24,
     "metadata": {},
     "output_type": "execute_result"
    },
    {
     "data": {
      "image/png": "[encoded data removed]",
      "text/plain": [
       "<Figure size 432x288 with 1 Axes>"
      ]
     },
     "metadata": {
      "needs_background": "light"
     },
     "output_type": "display_data"
    }
   ],
   "source": [
    "r = dummy_data_generator(30,10,signal_type='trend')\n",
    "plt.plot(r[0][0,:])\n",
    "plt.plot(r[1][0,:])\n",
    "plt.plot(r[2][0,:])\n",
    "plt.plot(r[3][0,:])"
   ]
  },
  {
   "cell_type": "code",
   "execution_count": 25,
   "metadata": {},
   "outputs": [
    {
     "data": {
      "text/plain": [
       "[<matplotlib.lines.Line2D at 0x7fd580b0a750>]"
      ]
     },
     "execution_count": 25,
     "metadata": {},
     "output_type": "execute_result"
    },
    {
     "data": {
      "image/png": "[encoded data removed]",
      "text/plain": [
       "<Figure size 432x288 with 1 Axes>"
      ]
     },
     "metadata": {
      "needs_background": "light"
     },
     "output_type": "display_data"
    }
   ],
   "source": [
    "r = dummy_data_generator(30,10)\n",
    "plt.plot(r[0][0,:])\n",
    "plt.plot(r[1][0,:])\n",
    "plt.plot(r[2][0,:])\n",
    "plt.plot(r[3][0,:])"
   ]
  },
  {
   "cell_type": "code",
   "execution_count": 26,
   "metadata": {},
   "outputs": [
    {
     "data": {
      "text/plain": [
       "[<matplotlib.lines.Line2D at 0x7fd580a881d0>]"
      ]
     },
     "execution_count": 26,
     "metadata": {},
     "output_type": "execute_result"
    },
    {
     "data": {
      "image/png": "[encoded data removed]",
      "text/plain": [
       "<Figure size 432x288 with 1 Axes>"
      ]
     },
     "metadata": {
      "needs_background": "light"
     },
     "output_type": "display_data"
    }
   ],
   "source": [
    "r = dummy_data_generator(30,10,norm=True, noise = 0)\n",
    "plt.plot(r[0][0,:])\n",
    "plt.plot(r[1][0,:])\n",
    "plt.plot(r[2][0,:])\n",
    "plt.plot(r[3][0,:])"
   ]
  },
  {
   "cell_type": "markdown",
   "metadata": {},
   "source": [
    "# Multivariate"
   ]
  },
  {
   "cell_type": "markdown",
   "metadata": {},
   "source": [
    "## easy"
   ]
  },
  {
   "cell_type": "code",
   "execution_count": 27,
   "metadata": {},
   "outputs": [],
   "source": [
    "# export\n",
    "def dummy_generator_multi_easy(length, signal_type='none',nrows:int=5, random = True, noise = .3,\n",
    "                               norm = True, norm_t = True, increase_noise = False, rang = [5,5]):\n",
    "\n",
    "    data = L() \n",
    "    for i in range(nrows):\n",
    "        weather = dummy_data_generator(length-10, 10, signal_type = 'seasonality', nrows=1, random=random, noise = 0 )[0]\n",
    "        n = (1+np.random.randn(length) * np.arange(0,10*length, 10) * .001 * noise)[None,:]\n",
    "        final = (rang[0] + np.random.sample()*(rang[1]-rang[0])) * weather * n\n",
    "        if norm:\n",
    "            final = (final-final.mean())/final.std()\n",
    "        if norm_t:\n",
    "            weather = (weather-weather.mean())/weather.std()            \n",
    "        tot = {'x':final,'weather': weather}\n",
    "        data.append(tot)           \n",
    "        \n",
    "    return pd.DataFrame(data)"
   ]
  },
  {
   "cell_type": "code",
   "execution_count": 28,
   "metadata": {},
   "outputs": [
    {
     "data": {
      "image/png": "[encoded data removed]",
      "text/plain": [
       "<Figure size 648x648 with 9 Axes>"
      ]
     },
     "metadata": {
      "needs_background": "light"
     },
     "output_type": "display_data"
    }
   ],
   "source": [
    "from fastai2.vision.data import get_grid\n",
    "df = dummy_generator_multi_easy(50,nrows=9, noise = .1, rang=[-1,0])\n",
    "\n",
    "ctxs = get_grid(len(df))\n",
    "for i, ctx in enumerate(ctxs):\n",
    "    for k in ['x', 'weather', 'n']:\n",
    "        if k in df:      \n",
    "            ctx.plot(df[k][i][0,:], label= k)\n",
    "    ctx.legend()"
   ]
  },
  {
   "cell_type": "markdown",
   "metadata": {},
   "source": [
    "## Hard"
   ]
  },
  {
   "cell_type": "code",
   "execution_count": 29,
   "metadata": {},
   "outputs": [],
   "source": [
    "# export \n",
    "\n",
    "def dummy_data_generator_multi(length, citys=2, cont = False, signal_type='none',nrows:int=5, random = True, noise = .2, incl_city_trend = False, norm= True, increase_noise = False):\n",
    "    city_names=['adam','rdam','zdam','istanbul','berlin','barcalona','NYC','LA']\n",
    "    data = L()\n",
    "    for city_i in range(citys):\n",
    "        city_trend = dummy_data_generator(length//2, length//2, signal_type = 'trend', nrows=1, random=random, noise = 0 )[0]  \n",
    "        for i in range(nrows):\n",
    "            if noise > .15:\n",
    "                weather = dummy_data_generator(length//2, 0, signal_type = 'seasonality', nrows=1, random=random, noise = 0 )[0]\n",
    "                weather = np.concatenate([weather,weather],-1)\n",
    "            else:\n",
    "                weather = dummy_data_generator(length-10, 10, signal_type = 'seasonality', nrows=1, random=random, noise = 0 )[0]\n",
    "                \n",
    "            cont = np.random.randn()\n",
    "            if cont: \n",
    "                city_weather = cont * city_trend + weather\n",
    "            else:\n",
    "                city_weather = city_trend + weather\n",
    "            normal_signal = 3 * dummy_data_generator(length//2, length//2, signal_type = signal_type, nrows=1, random=random, noise = noise )[0]                 \n",
    "            if increase_noise:\n",
    "                city_weather += dummy_data_generator(2, length-2, signal_type = 'seasonality', nrows=1, random=random, noise = noise,norm=True )[0] * (np.random.randn(length) *(np.arange(length) * (1/length) ) * noise)\n",
    "            final = normal_signal + city_weather * (1+np.random.randn(length) * .1 * noise)\n",
    "            if norm:\n",
    "                final = (final-final.mean())/final.std()\n",
    "            tot = {'x': final,'weather': weather,'city': city_names[city_i]}\n",
    "            if incl_city_trend:\n",
    "                tot['city_trend']=city_trend\n",
    "            if cont:\n",
    "                tot['cont'] = cont\n",
    "            data.append(tot)           \n",
    "        \n",
    "    return pd.DataFrame(data)"
   ]
  },
  {
   "cell_type": "code",
   "execution_count": 30,
   "metadata": {},
   "outputs": [
    {
     "data": {
      "image/png": "[encoded data removed]",
      "text/plain": [
       "<Figure size 864x504 with 8 Axes>"
      ]
     },
     "metadata": {
      "needs_background": "light"
     },
     "output_type": "display_data"
    }
   ],
   "source": [
    "from fastai2.vision.data import get_grid\n",
    "df = dummy_data_generator_multi(50, nrows = 4, noise = .1, incl_city_trend = True, cont = True)\n",
    "\n",
    "ctxs = get_grid(len(df), rows=2, cols=4, add_vert=1)\n",
    "for i, ctx in enumerate(ctxs):\n",
    "    for k in ['city_trend', 'x', 'weather']:\n",
    "        if k in df:      \n",
    "            ctx.plot(df[k][i][0,:], label= k)\n",
    "    ctx.set_title(f\"city: {str(df['city'][i])} cont: {str(np.round(df['cont'][i],2))}\")\n",
    "    ctx.legend()"
   ]
  },
  {
   "cell_type": "code",
   "execution_count": null,
   "metadata": {},
   "outputs": [],
   "source": []
  },
  {
   "cell_type": "markdown",
   "metadata": {},
   "source": [
    "## Data saving and restoring from json"
   ]
  },
  {
   "cell_type": "code",
   "execution_count": 31,
   "metadata": {},
   "outputs": [],
   "source": [
    "# export\n",
    "import numpy as np\n",
    "import pandas as pd\n",
    "import orjson"
   ]
  },
  {
   "cell_type": "code",
   "execution_count": 32,
   "metadata": {},
   "outputs": [],
   "source": [
    "# export\n",
    "class TSMulti(MultiTuple):pass"
   ]
  },
  {
   "cell_type": "code",
   "execution_count": 33,
   "metadata": {},
   "outputs": [],
   "source": [
    "# export\n",
    "def get_df(length = [100,120], use_str = True, classes = {}):\n",
    "    dct = {'x':[],'con_ts_1':[],'con_ts_0':[],'cat_ts_1':[],'cat_ts_0':[],'con_0':[],'con_1':[], 'cat_0':[],'cat_1':[]}\n",
    "    for i, l in enumerate(length):\n",
    "#         assert int(l/2) == l/2\n",
    "        dct['x'].append(np.arange(l))\n",
    "        dct['con_ts_0'].append(np.arange(l)[None,:])\n",
    "        dct['con_ts_1'].append(pd.Series(np.arange(l)+np.random.randn(l)))\n",
    "        dct['con_0'].append(np.random.rand()*2-1)\n",
    "        dct['con_1'].append(10+np.random.rand()*2)       \n",
    "        if 'cat_ts_0' in classes:\n",
    "            lst = classes['cat_ts_0']\n",
    "        else:\n",
    "            lst = ['a','b'] if use_str else [0,1]\n",
    "        dct['cat_ts_0'].append([random.choice(lst) for _ in range(l)])  \n",
    "        if 'cat_ts_1' in classes:\n",
    "            lst = classes['cat_ts_1']\n",
    "        else:            \n",
    "            lst = ['david','john'] if use_str else [0,1]\n",
    "        dct['cat_ts_1'].append([random.choice(lst) for _ in range(l)])  \n",
    "        if 'cat_0' in classes:\n",
    "            lst = classes['cat_0']\n",
    "        else:            \n",
    "            lst = ['a','b'] if use_str else [0,1]\n",
    "        dct['cat_0'].append(random.choice(lst))  \n",
    "        if 'cat_1' in classes:\n",
    "            lst = classes['cat_1']\n",
    "        else:                   \n",
    "            lst = ['adam','rdam'] if use_str else [0,1]\n",
    "        dct['cat_1'].append(random.choice(lst))  \n",
    "    return pd.DataFrame(data=dct)   "
   ]
  },
  {
   "cell_type": "code",
   "execution_count": 34,
   "metadata": {},
   "outputs": [
    {
     "data": {
      "text/html": [
       "<div>\n",
       "<style scoped>\n",
       "    .dataframe tbody tr th:only-of-type {\n",
       "        vertical-align: middle;\n",
       "    }\n",
       "\n",
       "    .dataframe tbody tr th {\n",
       "        vertical-align: top;\n",
       "    }\n",
       "\n",
       "    .dataframe thead th {\n",
       "        text-align: right;\n",
       "    }\n",
       "</style>\n",
       "<table border=\"1\" class=\"dataframe\">\n",
       "  <thead>\n",
       "    <tr style=\"text-align: right;\">\n",
       "      <th></th>\n",
       "      <th>x</th>\n",
       "      <th>con_ts_1</th>\n",
       "      <th>con_ts_0</th>\n",
       "      <th>cat_ts_1</th>\n",
       "      <th>cat_ts_0</th>\n",
       "      <th>con_0</th>\n",
       "      <th>con_1</th>\n",
       "      <th>cat_0</th>\n",
       "      <th>cat_1</th>\n",
       "    </tr>\n",
       "  </thead>\n",
       "  <tbody>\n",
       "    <tr>\n",
       "      <th>0</th>\n",
       "      <td>[0, 1, 2, 3, 4, 5, 6, 7, 8, 9]</td>\n",
       "      <td>0    0.309139\n",
       "1    0.047026\n",
       "2    1.522486\n",
       "3    3.433259\n",
       "4    3.035702\n",
       "5    4.978890\n",
       "6    6.834358\n",
       "7    7.380542\n",
       "8    8.812466\n",
       "9    9.027737\n",
       "dtype: float64</td>\n",
       "      <td>[[0, 1, 2, 3, 4, 5, 6, 7, 8, 9]]</td>\n",
       "      <td>[1, 1, 1, 1, 0, 0, 1, 1, 1, 1]</td>\n",
       "      <td>[1, 1, 0, 1, 1, 0, 0, 1, 1, 1]</td>\n",
       "      <td>-0.275049</td>\n",
       "      <td>11.012413</td>\n",
       "      <td>0</td>\n",
       "      <td>0</td>\n",
       "    </tr>\n",
       "    <tr>\n",
       "      <th>1</th>\n",
       "      <td>[0, 1, 2, 3, 4, 5, 6, 7, 8, 9, 10, 11]</td>\n",
       "      <td>0     -0.435180\n",
       "1      1.237169\n",
       "2      1.621297\n",
       "3      1.822971\n",
       "4      4.534944\n",
       "5      5.216003\n",
       "6      9.142358\n",
       "7      7.649839\n",
       "8      7.565236\n",
       "9      7.880724\n",
       "10     8.835421\n",
       "11    10.640338\n",
       "dtype: float64</td>\n",
       "      <td>[[0, 1, 2, 3, 4, 5, 6, 7, 8, 9, 10, 11]]</td>\n",
       "      <td>[0, 1, 0, 1, 1, 1, 1, 1, 0, 1, 0, 0]</td>\n",
       "      <td>[0, 0, 1, 1, 1, 0, 0, 1, 1, 0, 0, 0]</td>\n",
       "      <td>0.130315</td>\n",
       "      <td>11.675666</td>\n",
       "      <td>0</td>\n",
       "      <td>0</td>\n",
       "    </tr>\n",
       "    <tr>\n",
       "      <th>2</th>\n",
       "      <td>[0, 1, 2, 3, 4, 5]</td>\n",
       "      <td>0   -1.454328\n",
       "1    1.082003\n",
       "2    1.912846\n",
       "3    2.664603\n",
       "4    3.981577\n",
       "5    5.240766\n",
       "dtype: float64</td>\n",
       "      <td>[[0, 1, 2, 3, 4, 5]]</td>\n",
       "      <td>[0, 1, 0, 1, 1, 0]</td>\n",
       "      <td>[0, 0, 0, 1, 1, 1]</td>\n",
       "      <td>0.561754</td>\n",
       "      <td>11.237534</td>\n",
       "      <td>1</td>\n",
       "      <td>1</td>\n",
       "    </tr>\n",
       "  </tbody>\n",
       "</table>\n",
       "</div>"
      ],
      "text/plain": [
       "                                        x  \\\n",
       "0          [0, 1, 2, 3, 4, 5, 6, 7, 8, 9]   \n",
       "1  [0, 1, 2, 3, 4, 5, 6, 7, 8, 9, 10, 11]   \n",
       "2                      [0, 1, 2, 3, 4, 5]   \n",
       "\n",
       "                                                                                                                                                                                                         con_ts_1  \\\n",
       "0                                                      0    0.309139\n",
       "1    0.047026\n",
       "2    1.522486\n",
       "3    3.433259\n",
       "4    3.035702\n",
       "5    4.978890\n",
       "6    6.834358\n",
       "7    7.380542\n",
       "8    8.812466\n",
       "9    9.027737\n",
       "dtype: float64   \n",
       "1  0     -0.435180\n",
       "1      1.237169\n",
       "2      1.621297\n",
       "3      1.822971\n",
       "4      4.534944\n",
       "5      5.216003\n",
       "6      9.142358\n",
       "7      7.649839\n",
       "8      7.565236\n",
       "9      7.880724\n",
       "10     8.835421\n",
       "11    10.640338\n",
       "dtype: float64   \n",
       "2                                                                                                              0   -1.454328\n",
       "1    1.082003\n",
       "2    1.912846\n",
       "3    2.664603\n",
       "4    3.981577\n",
       "5    5.240766\n",
       "dtype: float64   \n",
       "\n",
       "                                   con_ts_0  \\\n",
       "0          [[0, 1, 2, 3, 4, 5, 6, 7, 8, 9]]   \n",
       "1  [[0, 1, 2, 3, 4, 5, 6, 7, 8, 9, 10, 11]]   \n",
       "2                      [[0, 1, 2, 3, 4, 5]]   \n",
       "\n",
       "                               cat_ts_1                              cat_ts_0  \\\n",
       "0        [1, 1, 1, 1, 0, 0, 1, 1, 1, 1]        [1, 1, 0, 1, 1, 0, 0, 1, 1, 1]   \n",
       "1  [0, 1, 0, 1, 1, 1, 1, 1, 0, 1, 0, 0]  [0, 0, 1, 1, 1, 0, 0, 1, 1, 0, 0, 0]   \n",
       "2                    [0, 1, 0, 1, 1, 0]                    [0, 0, 0, 1, 1, 1]   \n",
       "\n",
       "      con_0      con_1  cat_0  cat_1  \n",
       "0 -0.275049  11.012413      0      0  \n",
       "1  0.130315  11.675666      0      0  \n",
       "2  0.561754  11.237534      1      1  "
      ]
     },
     "execution_count": 34,
     "metadata": {},
     "output_type": "execute_result"
    }
   ],
   "source": [
    "# hide \n",
    "df = get_df([10,12,6], False)\n",
    "df"
   ]
  },
  {
   "cell_type": "code",
   "execution_count": 35,
   "metadata": {},
   "outputs": [
    {
     "data": {
      "text/html": [
       "<div>\n",
       "<style scoped>\n",
       "    .dataframe tbody tr th:only-of-type {\n",
       "        vertical-align: middle;\n",
       "    }\n",
       "\n",
       "    .dataframe tbody tr th {\n",
       "        vertical-align: top;\n",
       "    }\n",
       "\n",
       "    .dataframe thead th {\n",
       "        text-align: right;\n",
       "    }\n",
       "</style>\n",
       "<table border=\"1\" class=\"dataframe\">\n",
       "  <thead>\n",
       "    <tr style=\"text-align: right;\">\n",
       "      <th></th>\n",
       "      <th>x</th>\n",
       "      <th>con_ts_1</th>\n",
       "      <th>con_ts_0</th>\n",
       "      <th>cat_ts_1</th>\n",
       "      <th>cat_ts_0</th>\n",
       "      <th>con_0</th>\n",
       "      <th>con_1</th>\n",
       "      <th>cat_0</th>\n",
       "      <th>cat_1</th>\n",
       "    </tr>\n",
       "  </thead>\n",
       "  <tbody>\n",
       "    <tr>\n",
       "      <th>0</th>\n",
       "      <td>[0, 1, 2, 3, 4, 5, 6, 7, 8, 9]</td>\n",
       "      <td>0     0.611450\n",
       "1     0.824208\n",
       "2     1.556349\n",
       "3     4.633472\n",
       "4     4.428412\n",
       "5     3.381130\n",
       "6     5.279722\n",
       "7     7.044104\n",
       "8     9.476132\n",
       "9    10.612472\n",
       "dtype: float64</td>\n",
       "      <td>[[0, 1, 2, 3, 4, 5, 6, 7, 8, 9]]</td>\n",
       "      <td>[david, david, david, david, john, david, david, david, john, david]</td>\n",
       "      <td>[b, a, b, b, a, a, b, a, b, b]</td>\n",
       "      <td>-0.869162</td>\n",
       "      <td>11.374391</td>\n",
       "      <td>b</td>\n",
       "      <td>adam</td>\n",
       "    </tr>\n",
       "    <tr>\n",
       "      <th>1</th>\n",
       "      <td>[0, 1, 2, 3, 4, 5, 6, 7, 8, 9, 10, 11]</td>\n",
       "      <td>0      1.262760\n",
       "1      1.188884\n",
       "2      3.027138\n",
       "3      3.080977\n",
       "4      3.594078\n",
       "5      4.138080\n",
       "6      6.184328\n",
       "7      6.790515\n",
       "8      6.495304\n",
       "9      7.990631\n",
       "10     9.740386\n",
       "11    10.234208\n",
       "dtype: float64</td>\n",
       "      <td>[[0, 1, 2, 3, 4, 5, 6, 7, 8, 9, 10, 11]]</td>\n",
       "      <td>[david, john, david, david, john, john, david, david, david, john, john, john]</td>\n",
       "      <td>[b, a, b, a, b, a, a, a, a, b, b, b]</td>\n",
       "      <td>-0.353029</td>\n",
       "      <td>10.461238</td>\n",
       "      <td>a</td>\n",
       "      <td>rdam</td>\n",
       "    </tr>\n",
       "    <tr>\n",
       "      <th>2</th>\n",
       "      <td>[0, 1, 2, 3, 4, 5]</td>\n",
       "      <td>0    2.053636\n",
       "1    1.150805\n",
       "2    2.750201\n",
       "3    3.131718\n",
       "4    4.634671\n",
       "5    5.610231\n",
       "dtype: float64</td>\n",
       "      <td>[[0, 1, 2, 3, 4, 5]]</td>\n",
       "      <td>[david, john, john, john, john, john]</td>\n",
       "      <td>[a, b, b, b, b, a]</td>\n",
       "      <td>0.344362</td>\n",
       "      <td>10.791053</td>\n",
       "      <td>a</td>\n",
       "      <td>adam</td>\n",
       "    </tr>\n",
       "  </tbody>\n",
       "</table>\n",
       "</div>"
      ],
      "text/plain": [
       "                                        x  \\\n",
       "0          [0, 1, 2, 3, 4, 5, 6, 7, 8, 9]   \n",
       "1  [0, 1, 2, 3, 4, 5, 6, 7, 8, 9, 10, 11]   \n",
       "2                      [0, 1, 2, 3, 4, 5]   \n",
       "\n",
       "                                                                                                                                                                                                         con_ts_1  \\\n",
       "0                                            0     0.611450\n",
       "1     0.824208\n",
       "2     1.556349\n",
       "3     4.633472\n",
       "4     4.428412\n",
       "5     3.381130\n",
       "6     5.279722\n",
       "7     7.044104\n",
       "8     9.476132\n",
       "9    10.612472\n",
       "dtype: float64   \n",
       "1  0      1.262760\n",
       "1      1.188884\n",
       "2      3.027138\n",
       "3      3.080977\n",
       "4      3.594078\n",
       "5      4.138080\n",
       "6      6.184328\n",
       "7      6.790515\n",
       "8      6.495304\n",
       "9      7.990631\n",
       "10     9.740386\n",
       "11    10.234208\n",
       "dtype: float64   \n",
       "2                                                                                                              0    2.053636\n",
       "1    1.150805\n",
       "2    2.750201\n",
       "3    3.131718\n",
       "4    4.634671\n",
       "5    5.610231\n",
       "dtype: float64   \n",
       "\n",
       "                                   con_ts_0  \\\n",
       "0          [[0, 1, 2, 3, 4, 5, 6, 7, 8, 9]]   \n",
       "1  [[0, 1, 2, 3, 4, 5, 6, 7, 8, 9, 10, 11]]   \n",
       "2                      [[0, 1, 2, 3, 4, 5]]   \n",
       "\n",
       "                                                                         cat_ts_1  \\\n",
       "0            [david, david, david, david, john, david, david, david, john, david]   \n",
       "1  [david, john, david, david, john, john, david, david, david, john, john, john]   \n",
       "2                                           [david, john, john, john, john, john]   \n",
       "\n",
       "                               cat_ts_0     con_0      con_1 cat_0 cat_1  \n",
       "0        [b, a, b, b, a, a, b, a, b, b] -0.869162  11.374391     b  adam  \n",
       "1  [b, a, b, a, b, a, a, a, a, b, b, b] -0.353029  10.461238     a  rdam  \n",
       "2                    [a, b, b, b, b, a]  0.344362  10.791053     a  adam  "
      ]
     },
     "execution_count": 35,
     "metadata": {},
     "output_type": "execute_result"
    }
   ],
   "source": [
    "df = get_df([10,12,6])\n",
    "df"
   ]
  },
  {
   "cell_type": "code",
   "execution_count": 36,
   "metadata": {},
   "outputs": [
    {
     "data": {
      "text/html": [
       "<div>\n",
       "<style scoped>\n",
       "    .dataframe tbody tr th:only-of-type {\n",
       "        vertical-align: middle;\n",
       "    }\n",
       "\n",
       "    .dataframe tbody tr th {\n",
       "        vertical-align: top;\n",
       "    }\n",
       "\n",
       "    .dataframe thead th {\n",
       "        text-align: right;\n",
       "    }\n",
       "</style>\n",
       "<table border=\"1\" class=\"dataframe\">\n",
       "  <thead>\n",
       "    <tr style=\"text-align: right;\">\n",
       "      <th></th>\n",
       "      <th>x</th>\n",
       "      <th>con_ts_1</th>\n",
       "      <th>con_ts_0</th>\n",
       "      <th>cat_ts_1</th>\n",
       "      <th>cat_ts_0</th>\n",
       "      <th>con_0</th>\n",
       "      <th>con_1</th>\n",
       "      <th>cat_0</th>\n",
       "      <th>cat_1</th>\n",
       "    </tr>\n",
       "  </thead>\n",
       "  <tbody>\n",
       "    <tr>\n",
       "      <th>0</th>\n",
       "      <td>[0, 1, 2, 3, 4]</td>\n",
       "      <td>0   -0.412194\n",
       "1   -3.097148\n",
       "2    2.404612\n",
       "3    2.659257\n",
       "4    4.754342\n",
       "dtype: float64</td>\n",
       "      <td>[[0, 1, 2, 3, 4]]</td>\n",
       "      <td>[john, johan, david, david, david]</td>\n",
       "      <td>[c, dd, bb, c, c]</td>\n",
       "      <td>-0.071235</td>\n",
       "      <td>10.409056</td>\n",
       "      <td>b</td>\n",
       "      <td>rdam</td>\n",
       "    </tr>\n",
       "    <tr>\n",
       "      <th>1</th>\n",
       "      <td>[0, 1, 2]</td>\n",
       "      <td>0   -0.503307\n",
       "1    1.331157\n",
       "2    1.914578\n",
       "dtype: float64</td>\n",
       "      <td>[[0, 1, 2]]</td>\n",
       "      <td>[johan, denis, johan]</td>\n",
       "      <td>[dd, ab, c]</td>\n",
       "      <td>0.423380</td>\n",
       "      <td>11.755280</td>\n",
       "      <td>c</td>\n",
       "      <td>adam</td>\n",
       "    </tr>\n",
       "    <tr>\n",
       "      <th>2</th>\n",
       "      <td>[0, 1, 2, 3, 4]</td>\n",
       "      <td>0   -1.197982\n",
       "1    0.966530\n",
       "2    3.897946\n",
       "3    3.535701\n",
       "4    3.513378\n",
       "dtype: float64</td>\n",
       "      <td>[[0, 1, 2, 3, 4]]</td>\n",
       "      <td>[john, denis, denis, david, johan]</td>\n",
       "      <td>[dd, ba, ab, c, ab]</td>\n",
       "      <td>-0.944959</td>\n",
       "      <td>10.959907</td>\n",
       "      <td>c</td>\n",
       "      <td>adam</td>\n",
       "    </tr>\n",
       "  </tbody>\n",
       "</table>\n",
       "</div>"
      ],
      "text/plain": [
       "                 x  \\\n",
       "0  [0, 1, 2, 3, 4]   \n",
       "1        [0, 1, 2]   \n",
       "2  [0, 1, 2, 3, 4]   \n",
       "\n",
       "                                                                               con_ts_1  \\\n",
       "0  0   -0.412194\n",
       "1   -3.097148\n",
       "2    2.404612\n",
       "3    2.659257\n",
       "4    4.754342\n",
       "dtype: float64   \n",
       "1                              0   -0.503307\n",
       "1    1.331157\n",
       "2    1.914578\n",
       "dtype: float64   \n",
       "2  0   -1.197982\n",
       "1    0.966530\n",
       "2    3.897946\n",
       "3    3.535701\n",
       "4    3.513378\n",
       "dtype: float64   \n",
       "\n",
       "            con_ts_0                            cat_ts_1             cat_ts_0  \\\n",
       "0  [[0, 1, 2, 3, 4]]  [john, johan, david, david, david]    [c, dd, bb, c, c]   \n",
       "1        [[0, 1, 2]]               [johan, denis, johan]          [dd, ab, c]   \n",
       "2  [[0, 1, 2, 3, 4]]  [john, denis, denis, david, johan]  [dd, ba, ab, c, ab]   \n",
       "\n",
       "      con_0      con_1 cat_0 cat_1  \n",
       "0 -0.071235  10.409056     b  rdam  \n",
       "1  0.423380  11.755280     c  adam  \n",
       "2 -0.944959  10.959907     c  adam  "
      ]
     },
     "execution_count": 36,
     "metadata": {},
     "output_type": "execute_result"
    }
   ],
   "source": [
    "df = get_df([5,3,5],classes={'cat_0':['a','b','c'],\n",
    "                               'cat_ts_1':['john','david','johan','denis'],\n",
    "                              'cat_ts_0':['ab','bb','ba','c','dd']})\n",
    "df"
   ]
  },
  {
   "cell_type": "code",
   "execution_count": 37,
   "metadata": {},
   "outputs": [],
   "source": [
    "# export\n",
    "def add_dct(dct, k, o):\n",
    "    if type(o) == set:\n",
    "        o = list(o)\n",
    "        \n",
    "    if type(o) == list or type(o) == L:\n",
    "        if k in dct:\n",
    "            dct[k] = list(set(dct[k] +o))\n",
    "        else:\n",
    "            dct[k] = o\n",
    "    elif type(o) == dict or type(o) == collections.defaultdict:\n",
    "        if k not in dct:\n",
    "            dct[k] = {}            \n",
    "        for _k,v in o.items():\n",
    "            dct[k] = add_dct(dct[k], _k, v)\n",
    "    elif type(o) == int or type(o) == float:\n",
    "        dct[k] = o\n",
    "    else:\n",
    "        raise Exception(type(o))\n",
    "    return dct"
   ]
  },
  {
   "cell_type": "code",
   "execution_count": 38,
   "metadata": {},
   "outputs": [],
   "source": [
    "dct={'foo':'bar'}\n",
    "dct = add_dct(dct, 'foo2',['bar2'])\n",
    "test_eq(len(dct), 2)\n",
    "dct = add_dct(dct, 'foodct',dict(a=1))\n",
    "test_eq(dct['foodct'] , dict(a=1))\n",
    "o = defaultdict(list)\n",
    "o[1].append(0)\n",
    "dct = add_dct(dct,'defaultdict',o )\n",
    "test_eq(dct['defaultdict'][1],[0])\n",
    "\n",
    "dct = add_dct(dct,'set',set([1,2,2]) )\n",
    "test_eq(dct['set'],[1,2])\n",
    "\n",
    "dct = add_dct(dct,'set2',{'set':set([1,2,2])} )\n",
    "test_eq(dct['set2']['set'],[1,2])"
   ]
  },
  {
   "cell_type": "code",
   "execution_count": 39,
   "metadata": {},
   "outputs": [],
   "source": [
    "# export\n",
    "import json\n",
    "def _save_dct(f,dct):\n",
    "    json.dump(dct, open(f,'w'), indent = 2, sort_keys = True)               \n",
    "    return f\n",
    "\n",
    "def make_meta_file(path, **kwargs):\n",
    "    dct = {}\n",
    "    f = path / '.ts_meta'\n",
    "    if (path / '.ts_meta').exists():\n",
    "        dct = json.load(open(f))\n",
    "    for k,v in kwargs.items():\n",
    "        dct = add_dct(dct,k,v)\n",
    "    return _save_dct(f,dct)"
   ]
  },
  {
   "cell_type": "code",
   "execution_count": 40,
   "metadata": {},
   "outputs": [],
   "source": [
    "p = Path('../data/test_data')\n",
    "p.delete();p.mkdir()\n",
    "f = make_meta_file(p, **dict(a=1))\n",
    "test_eq(f.exists(),True)\n",
    "test_eq(json.load(open(f)),dict(a=1))"
   ]
  },
  {
   "cell_type": "code",
   "execution_count": 48,
   "metadata": {},
   "outputs": [],
   "source": [
    "# export\n",
    "class Meta(dict):pass\n",
    "\n",
    "class TS(dict):\n",
    "    @classmethod\n",
    "    def load(cls, f):\n",
    "        return cls(orjson.loads(open(f,'rb').read()))\n",
    "\n",
    "    def get_ts(self, meta:Meta, key):\n",
    "        \"\"\"Ensures it is always same order\"\"\"\n",
    "        try:\n",
    "            return [self[key][o] for o in meta['col_names'][key+'_names']]\n",
    "        except KeyError:\n",
    "            assert key in ['cat','con','ts_cat','ts_con']\n",
    "\n",
    "    def get_np(self,meta:Meta, key):return np.array(self.get_ts(meta,key))\n",
    "    def __len__(self):return self['_length']\n",
    "\n",
    "    def __str__(self):\n",
    "        s = ''\n",
    "        for k,v in self.items():\n",
    "            if type(v) == dict:\n",
    "                o={col: L(o) for col,o in v.items()}\n",
    "                s += f\"{k}:{o} \\n\"\n",
    "            else:\n",
    "                s += f\"{k}:{v}\"\n",
    "        return s\n",
    "    \n",
    "def get_ts_datapoint(f) -> TS:\n",
    "    return TS(orjson.loads(open(f,'rb').read()))\n",
    "\n",
    "def get_meta(path:Path):\n",
    "    f = path / '.ts_meta'\n",
    "    return Meta(json.load(open(f,'r')))        "
   ]
  },
  {
   "cell_type": "code",
   "execution_count": 50,
   "metadata": {},
   "outputs": [
    {
     "name": "stdout",
     "output_type": "stream",
     "text": [
      "_length:80cat:{'cat_0': (#1) ['b'], 'cat_1': (#1) ['rdam']} \n",
      "con:{'con_0': (#1) [10], 'con_1': (#1) [0]} \n",
      "ts_cat:{'cat_ts_0': (#80) ['a','a','a','a','a','a','a','a','a','a'...], 'cat_ts_1': (#80) ['a','a','a','a','a','a','a','a','a','a'...]} \n",
      "ts_con:{'con_ts_0': (#80) [0.7321586399361827,-0.5214408748904866,1.1812388903882116,-1.9774562179443915,-0.9245256302606167,0.6323080060934176,0.3216575032661945,-0.7482416448496355,0.7442033759864223,-0.6291249324496511...], 'con_ts_1': (#80) [-2.1866951252496074,-0.10604675089993344,-1.115976692277744,-1.1273886000492743,0.031217403255163152,0.3223875754674972,0.5302546566925511,1.2489988766102724,-0.3318078381445021,-1.5500795460112073...], 'x': (#80) [-0.33917111821443097,0.4913267393977968,-2.552627710392637,0.5563070426248893,-0.9112620152787928,-1.5206770810499417,-0.30699906962897705,-0.16531751534498004,0.38883290843367196,0.15453430934322815...]} \n",
      "\n"
     ]
    }
   ],
   "source": [
    "path = Path('../data/test_data')\n",
    "path.delete()\n",
    "path.mkdir()\n",
    "_save_dct(path / '1.json',\n",
    "    {'cat':{'cat_0':'b','cat_1':'rdam'}, 'con':{'con_0':10,'con_1':0}, \n",
    "     'ts_con': {k:[np.random.randn() for _ in range(80)] for k in ['con_ts_1','con_ts_0','x']},\n",
    "     'ts_cat': {k:['a' for _ in range(80)] for k in ['cat_ts_0','cat_ts_1']},\n",
    "    '_length':80\n",
    "            })\n",
    "\n",
    "make_meta_file(path,\n",
    "        **{\"col_names\": {\n",
    "        \"cat_names\": [\"cat_0\", \"cat_1\"],\n",
    "        \"con_names\": [\"con_1\", \"con_0\"],\n",
    "        \"ts_cat_names\": [\"cat_ts_1\", \"cat_ts_0\"],\n",
    "        \"ts_con_names\": [\"x\", \"con_ts_1\", \"con_ts_0\"],\n",
    "        }})\n",
    "\n",
    "ts = TS.load(path / '1.json')\n",
    "test_eq(set(ts.get_ts(get_meta(path), 'cat')),set(['rdam','b']))\n",
    "test_close(ts.get_ts(get_meta(path), 'con'),[0,10], 2)\n",
    "test_close(ts.get_np(get_meta(path), 'ts_con').shape,(3, len(ts)))\n",
    "test_close(ts.get_np(get_meta(path), 'ts_cat').shape,(2, len(ts)))\n",
    "print(ts)"
   ]
  },
  {
   "cell_type": "code",
   "execution_count": 187,
   "metadata": {},
   "outputs": [],
   "source": [
    "# export\n",
    "def python_type(o):\n",
    "    if isinstance(o,int) or type(o) == np.int64:\n",
    "        return int(o)\n",
    "    elif isinstance(o,float) or type(o) == np.float64:\n",
    "        if int(o) == o:\n",
    "            return int(o)\n",
    "        return float(o)\n",
    "    elif type(o) == str:\n",
    "        return o\n",
    "    elif type(o) == pd.Series:\n",
    "        return [python_type(v) for k,v in dict(o).items()]\n",
    "    elif isinstance(o,list) or isinstance(o,L):\n",
    "        return [python_type(v) for v in o]\n",
    "    elif isinstance(o,np.ndarray):\n",
    "        return [python_type(v) for v in list(o.flatten())]\n",
    "    raise Exception(f\"{type(o)}, {o}\")\n",
    "    "
   ]
  },
  {
   "cell_type": "code",
   "execution_count": 188,
   "metadata": {},
   "outputs": [],
   "source": [
    "test_eq(python_type(np.array([0,0])),[0,0])\n",
    "test_eq(type(python_type(np.array([1.,0.]))[0]),int)\n",
    "test_eq(python_type(pd.Series(np.arange(10))),list(np.arange(10)))\n",
    "test_eq(python_type(np.arange(10)[None,:]),list(np.arange(10)))"
   ]
  },
  {
   "cell_type": "code",
   "execution_count": 189,
   "metadata": {},
   "outputs": [],
   "source": [
    "# export\n",
    "def _check_length(lst, length):    \n",
    "    if length is None:\n",
    "        length = len(lst)\n",
    "    else:\n",
    "        assert len(lst) == length\n",
    "    return length\n",
    "\n",
    "def _from_dict_to_defaultdict(dct, default):\n",
    "    _dct = dct\n",
    "    dct = defaultdict(default)\n",
    "    for k,v in _dct.items():\n",
    "        dct[k] = v\n",
    "    return dct\n",
    "\n",
    "def reconize_cols(datapoint:dict, con_names=None, cat_names=None, ts_con_names=None,\n",
    "                  ts_cat_names=None, classes = {}):\n",
    "    \"\"\"Gets the con_names, cat_names, ts_con_names, ts_cat_names for the `datapoint`\"\"\"\n",
    "    con_names, cat_names, ts_con_names, ts_cat_names = [ifnone(o, []) for o in [con_names, cat_names, ts_con_names, ts_cat_names]]\n",
    "    length = None    \n",
    "    classes = _from_dict_to_defaultdict(classes, set)\n",
    "    for k,v in datapoint.items():\n",
    "        if k in con_names+cat_names+ ts_con_names+ts_cat_names:\n",
    "            if k in cat_names+ts_cat_names:\n",
    "                if k not in classes:\n",
    "                    for _v in set(v):\n",
    "                        classes[k].add(_v)                 \n",
    "            if k in ts_cat_names + ts_con_names:\n",
    "                length = _check_length(v, length)                \n",
    "        elif type(v) == int or isinstance(v,float):\n",
    "            con_names.append(k)\n",
    "        elif type(v) == str:\n",
    "            cat_names.append(k)\n",
    "            classes[k].add(v)\n",
    "        elif isinstance(v,list) and (type(v[0]) == int or type(v[0]) == float):\n",
    "            ts_con_names.append(k)\n",
    "            length = _check_length(v, length)\n",
    "        elif isinstance(v, list) and (type(v[0]) == str):\n",
    "            ts_cat_names.append(k)\n",
    "            length = _check_length(v, length)\n",
    "            for _v in set(v):\n",
    "                classes[k].add(_v)\n",
    "        else:\n",
    "            raise TypeError(type(v), type(v[0]))\n",
    "            \n",
    "    col_names = {k:list(set(v)) for k,v in zip('con_names, cat_names, ts_con_names, ts_cat_names'.split(', '),\n",
    "                                         [con_names, cat_names, ts_con_names, ts_cat_names],)}\n",
    "    names = [list(o) for o in [con_names, cat_names, ts_con_names, ts_cat_names]]\n",
    "    return length, classes, col_names, names"
   ]
  },
  {
   "cell_type": "code",
   "execution_count": 190,
   "metadata": {},
   "outputs": [],
   "source": [
    "length, classes, col_names, names = reconize_cols({'_ts_cat':['a','b','a'],\n",
    "                                                  '_ts_con':[0,0,1],\n",
    "                                                  '_cat':'z',\n",
    "                                                  '_con':.3})\n",
    "test_eq(length,3)\n",
    "test_eq(names, [['_con'], ['_cat'], ['_ts_con'], ['_ts_cat']])\n",
    "test_eq(dict(classes), {'_ts_cat':{'a','b'},'_cat':{'z'}})"
   ]
  },
  {
   "cell_type": "code",
   "execution_count": 191,
   "metadata": {},
   "outputs": [],
   "source": [
    "length, classes, col_names, names = reconize_cols({'_ts_cat':['a','b','a'],\n",
    "                                                  '_ts_con':[0,0,1],\n",
    "                                                  '_cat':['a','z','a'],\n",
    "                                                  '_con':.3},[])\n",
    "test_eq(length,3)\n",
    "test_eq(names, [['_con'], [], ['_ts_con'], ['_ts_cat', '_cat']])\n",
    "test_eq(dict(classes), {'_ts_cat':{'a','b'},'_cat':{'a','z','a'}})"
   ]
  },
  {
   "cell_type": "code",
   "execution_count": 192,
   "metadata": {},
   "outputs": [],
   "source": [
    "# export\n",
    "def make_compact(dp, con_names, cat_names, ts_con_names, ts_cat_names, **kwargs):\n",
    "    r = {'_'+k:v for k,v in kwargs.items()}  \n",
    "    r['con'] = {k:dp[k] for k in con_names}\n",
    "    r['cat'] = {k:dp[k] for k in cat_names}\n",
    "    r['ts_con'] = {k:[float(i) for i in dp[k]] for k in ts_con_names}\n",
    "    r['ts_cat'] = {k:dp[k] for k in ts_cat_names}\n",
    "    return r        \n",
    "\n",
    "@delegates(reconize_cols)\n",
    "def save_row(row, path:Path, fname='1', **kwargs):\n",
    "    if not path.exists(): path.mkdir()\n",
    "    if fname[-5:] is not '.json': fname += '.json'\n",
    "    o = {k:python_type(v) for k,v in dict(row).items()}   \n",
    "    length, classes, col_names, names = reconize_cols(o, **kwargs)\n",
    "    o = make_compact(o, *names, length = length)\n",
    "    make_meta_file(path, classes=classes, col_names = col_names)\n",
    "    open(path / fname,'wb').write(orjson.dumps(o, ))\n",
    "    return path / fname"
   ]
  },
  {
   "cell_type": "code",
   "execution_count": 193,
   "metadata": {},
   "outputs": [],
   "source": [
    "df = get_df([6])\n",
    "path = Path('../data/test_data')\n",
    "path.delete();path.mkdir()\n",
    "f = save_row(df.iloc[0,:], path)\n",
    "dct = orjson.loads(open(f,'rb').read())\n",
    "test_eq(dct['_length'],6)\n",
    "test_eq(get_meta(path)['classes']['cat_ts_1'],['david','john'])"
   ]
  },
  {
   "cell_type": "code",
   "execution_count": 194,
   "metadata": {},
   "outputs": [],
   "source": [
    "# export\n",
    "@delegates(save_row)\n",
    "def save_df(df:pd.DataFrame, path:Path, **kwargs):\n",
    "    for i, row in df.iterrows():\n",
    "        save_row(row, path, fname=str(i), **kwargs)"
   ]
  },
  {
   "cell_type": "code",
   "execution_count": 214,
   "metadata": {},
   "outputs": [],
   "source": [
    "# export\n",
    "def del_create(length = [80, 80, 80], path = Path('../data/test_data'), use_str = True, classes =None):\n",
    "    if classes is None:\n",
    "        classes = dict(cat_ts_0=['a','b'], cat_ts_1=['david','john'],\n",
    "                        cat_0 = ['a','b'], cat_1= ['adam','rdam'])\n",
    "    \n",
    "    df = get_df(length, use_str, classes = (classes if use_str else {}))\n",
    "    if path.exists(): path.delete()\n",
    "    path.mkdir()\n",
    "    save_df(df, path, ts_cat_names = [o for o in list(df.columns) if o in ['cat_ts_0', 'cat_ts_1'] ],\n",
    "           cat_names = ['cat_0','cat_1'], classes=classes)\n",
    "    return [path / (str(i) + '.json') for i in range(0,3)]"
   ]
  },
  {
   "cell_type": "code",
   "execution_count": 215,
   "metadata": {},
   "outputs": [
    {
     "data": {
      "text/plain": [
       "[Path('../data/test_data/0.json'),\n",
       " Path('../data/test_data/1.json'),\n",
       " Path('../data/test_data/2.json')]"
      ]
     },
     "execution_count": 215,
     "metadata": {},
     "output_type": "execute_result"
    }
   ],
   "source": [
    "del_create([10,10,10])"
   ]
  },
  {
   "cell_type": "code",
   "execution_count": 216,
   "metadata": {},
   "outputs": [
    {
     "data": {
      "text/plain": [
       "[Path('../data/test_data/0.json'),\n",
       " Path('../data/test_data/1.json'),\n",
       " Path('../data/test_data/2.json')]"
      ]
     },
     "execution_count": 216,
     "metadata": {},
     "output_type": "execute_result"
    }
   ],
   "source": [
    "# hide\n",
    "del_create([10,10,10], use_str = False)"
   ]
  },
  {
   "cell_type": "code",
   "execution_count": 207,
   "metadata": {},
   "outputs": [],
   "source": [
    "r = del_create(use_str = False)\n",
    "meta=get_meta(r[0].parent)\n",
    "test_eq(set(meta['col_names']['ts_cat_names']),set(['cat_ts_1', 'cat_ts_0',]))\n",
    "test_eq(set(meta['col_names']['ts_con_names']),set(['con_ts_1', 'con_ts_0','x']))\n",
    "test_eq(set(meta['classes']['cat_1']),{'adam', 'rdam'})"
   ]
  },
  {
   "cell_type": "code",
   "execution_count": 208,
   "metadata": {},
   "outputs": [],
   "source": [
    "# export \n",
    "def meta_from_path(path:Path):\n",
    "    for f in path.glob('*.json'):\n",
    "        ts = get_ts_datapoint(f)\n",
    "        o ={}\n",
    "        for typ in ['cat','ts_cat','ts_con','con']:\n",
    "            o.update({k:python_type(v) for k,v in ts[typ].items()})\n",
    "        length, classes, col_names, names = reconize_cols(o)\n",
    "        o = make_compact(o, *names, length = length)\n",
    "        r = make_meta_file(path, classes=classes, col_names = col_names)\n",
    "    return r"
   ]
  },
  {
   "cell_type": "code",
   "execution_count": 209,
   "metadata": {},
   "outputs": [
    {
     "data": {
      "text/plain": [
       "{'classes': {'cat_0': ['b'],\n",
       "  'cat_1': ['rdam'],\n",
       "  'cat_ts_0': ['a'],\n",
       "  'cat_ts_1': ['a']},\n",
       " 'col_names': {'cat_names': ['cat_0', 'cat_1'],\n",
       "  'con_names': ['con_1', 'con_0'],\n",
       "  'ts_cat_names': ['cat_ts_1', 'cat_ts_0'],\n",
       "  'ts_con_names': ['con_ts_0', 'x', 'con_ts_1']}}"
      ]
     },
     "execution_count": 209,
     "metadata": {},
     "output_type": "execute_result"
    }
   ],
   "source": [
    "path = Path('../data/test_data')\n",
    "path.delete()\n",
    "path.mkdir()\n",
    "_save_dct(path / '1.json',\n",
    "    {'cat':{'cat_0':'b','cat_1':'rdam'}, 'con':{'con_0':10,'con_1':0}, \n",
    "     'ts_con': {k:[np.random.randn() for _ in range(80)] for k in ['con_ts_1','con_ts_0','x']},\n",
    "     'ts_cat': {k:['a' for _ in range(80)] for k in ['cat_ts_0','cat_ts_1']},\n",
    "    '_length':80\n",
    "            })\n",
    "f = meta_from_path(path)\n",
    "json.load(open(f))"
   ]
  },
  {
   "cell_type": "code",
   "execution_count": 234,
   "metadata": {},
   "outputs": [
    {
     "data": {
      "text/plain": [
       "{'cat_names': [],\n",
       " 'con_names': ['con_1', 'cat_0', 'con_0', 'cat_1'],\n",
       " 'ts_cat_names': [],\n",
       " 'ts_con_names': ['con_ts_1', 'cat_ts_1', 'x', 'con_ts_0', 'cat_ts_0']}"
      ]
     },
     "execution_count": 234,
     "metadata": {},
     "output_type": "execute_result"
    }
   ],
   "source": [
    "path = del_create([50,50], use_str = False)\n",
    "meta = path[0].parent / '.ts_meta'\n",
    "os.remove(meta)\n",
    "f = meta_from_path(path[0].parent)\n",
    "json.load(open(f))['col_names']"
   ]
  },
  {
   "cell_type": "code",
   "execution_count": 261,
   "metadata": {},
   "outputs": [],
   "source": [
    "# export\n",
    "def _get_classes(self):\n",
    "    r = {}\n",
    "    for k,names in self['col_names'].items():\n",
    "        for col in names:\n",
    "            if col in self['classes']:\n",
    "                r[col] = self['classes'][col]\n",
    "    return r\n",
    "Meta.get_classes = _get_classes\n"
   ]
  },
  {
   "cell_type": "code",
   "execution_count": 262,
   "metadata": {},
   "outputs": [],
   "source": [
    "path = Path('../data/test_data')\n",
    "del_create([8,8,8],path = path)\n",
    "meta = get_meta(path)\n",
    "test_eq(meta.get_classes().keys(), [*meta['col_names']['cat_names'],*meta['col_names']['ts_cat_names']])"
   ]
  },
  {
   "cell_type": "code",
   "execution_count": 289,
   "metadata": {},
   "outputs": [],
   "source": [
    "# export\n",
    "def _del_col(self, del_col):\n",
    "    r = {}\n",
    "    for names,v in self['col_names'].items():\n",
    "        r[names] = []\n",
    "        for col in v:\n",
    "            if del_col != col:\n",
    "                r[names].append(col)\n",
    "    self['col_names'] = r\n",
    "    return self\n",
    "Meta.del_col = _del_col"
   ]
  },
  {
   "cell_type": "code",
   "execution_count": 291,
   "metadata": {},
   "outputs": [],
   "source": [
    "path = Path('../data/test_data')\n",
    "del_create([8,8,8],path = path)\n",
    "meta = get_meta(path)\n",
    "\n",
    "test_eq(meta.del_col('cat_1')['col_names']['cat_names'], ['cat_0'])\n",
    "test_eq(meta.del_col('cat_ts_1')['col_names']['ts_cat_names'], ['cat_ts_0'])\n",
    "test_eq(meta.get_classes().keys(),['cat_0','cat_ts_0'])"
   ]
  },
  {
   "cell_type": "code",
   "execution_count": 51,
   "metadata": {},
   "outputs": [
    {
     "name": "stdout",
     "output_type": "stream",
     "text": [
      "Converted 00_core.ipynb.\n",
      "Converted 00_m5.ipynb.\n",
      "Converted 01_data.external.ipynb.\n",
      "Converted 02_data.load.ipynb.\n",
      "Converted 03_data.core.ipynb.\n",
      "Converted 04_data.procs.ipynb.\n",
      "Converted 05_data.m5.ipynb.\n",
      "Converted 10_model.base.ipynb.\n",
      "Converted 11_metrics.ipynb.\n",
      "Converted 11_model.conv.ipynb.\n",
      "Converted 12_compare.ipynb.\n",
      "Converted 12_model.rnn.ipynb.\n",
      "Converted index.ipynb.\n",
      "Converted tab.model.ipynb.\n",
      "Converted test.ipynb.\n"
     ]
    }
   ],
   "source": [
    "# hide\n",
    "from nbdev.export import *\n",
    "\n",
    "notebook2script()"
   ]
  },
  {
   "cell_type": "code",
   "execution_count": 241,
   "metadata": {},
   "outputs": [
    {
     "data": {
      "text/plain": [
       "torch.Size([64, 1, 56])"
      ]
     },
     "execution_count": 241,
     "metadata": {},
     "output_type": "execute_result"
    }
   ],
   "source": [
    "x = torch.randn(64,1,2*28)\n",
    "def lagging(x, shift = 7, fill = 0):\n",
    "    o = x[:,:,shift:]\n",
    "    return torch.cat([torch.ones_like(x)[:,:,:shift]*fill, o],-1 )\n",
    "lagging(x).shape"
   ]
  },
  {
   "cell_type": "code",
   "execution_count": null,
   "metadata": {},
   "outputs": [],
   "source": []
  }
 ],
 "metadata": {
  "kernelspec": {
   "display_name": "env37",
   "language": "python",
   "name": "env37"
  },
  "language_info": {
   "codemirror_mode": {
    "name": "ipython",
    "version": 3
   },
   "file_extension": ".py",
   "mimetype": "text/x-python",
   "name": "python",
   "nbconvert_exporter": "python",
   "pygments_lexer": "ipython3",
   "version": "3.7.4"
  }
 },
 "nbformat": 4,
 "nbformat_minor": 4
}
